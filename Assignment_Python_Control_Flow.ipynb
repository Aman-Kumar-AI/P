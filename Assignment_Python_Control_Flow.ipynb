{
 "cells": [
  {
   "cell_type": "markdown",
   "id": "a0b4bfdd-1941-489b-9c8f-2758b2585344",
   "metadata": {},
   "source": [
    "# Control Flow\n",
    "\n",
    "# Assignment Questions"
   ]
  },
  {
   "cell_type": "markdown",
   "id": "93c38aa8-1dfb-46d8-b0c9-17d483d02a6f",
   "metadata": {},
   "source": [
    "## Basic If-Else Statements:"
   ]
  },
  {
   "cell_type": "markdown",
   "id": "542d4b64-597e-4a35-b6d8-7dabf172e992",
   "metadata": {},
   "source": [
    "### 1. Write a Python program to check if a given number is positive or negative."
   ]
  },
  {
   "cell_type": "code",
   "execution_count": 79,
   "id": "95cdcf5f-2049-43ab-83d9-2eac584285f0",
   "metadata": {},
   "outputs": [
    {
     "name": "stdin",
     "output_type": "stream",
     "text": [
      "Enter a number:  21\n"
     ]
    },
    {
     "name": "stdout",
     "output_type": "stream",
     "text": [
      "Positive number\n"
     ]
    }
   ],
   "source": [
    "number = float(input(\"Enter a number: \"))\n",
    "if number > 0:\n",
    "    print(\"Positive number\")\n",
    "elif number < 0:\n",
    "    print(\"Negative number\")\n",
    "else:\n",
    "    print(\"Zero\")"
   ]
  },
  {
   "cell_type": "markdown",
   "id": "3e0fd8a2-06fc-4eeb-9075-7999fedf8b22",
   "metadata": {},
   "source": [
    "### 2. Create a program that determines if a person is eligible to vote based on their age."
   ]
  },
  {
   "cell_type": "code",
   "execution_count": 80,
   "id": "e3593714-9349-4a44-8284-2daf2d457d2e",
   "metadata": {},
   "outputs": [
    {
     "name": "stdin",
     "output_type": "stream",
     "text": [
      "Enter your age:  8\n"
     ]
    },
    {
     "name": "stdout",
     "output_type": "stream",
     "text": [
      "You are not eligible to vote yet.\n"
     ]
    }
   ],
   "source": [
    "age = int(input(\"Enter your age: \"))\n",
    "if age >= 18:\n",
    "    print(\"You are eligible to vote.\")\n",
    "else:\n",
    "    print(\"You are not eligible to vote yet.\")"
   ]
  },
  {
   "cell_type": "markdown",
   "id": "3825a5c0-c244-440e-9089-bb732366137c",
   "metadata": {},
   "source": [
    "### 3. Develop a program to find the maximum of two numbers using if-else statements."
   ]
  },
  {
   "cell_type": "code",
   "execution_count": 82,
   "id": "cf24f530-2e00-4699-8a3e-24c12bea8b12",
   "metadata": {},
   "outputs": [
    {
     "name": "stdin",
     "output_type": "stream",
     "text": [
      "Enter the first number:  21\n",
      "Enter the second number:  32\n"
     ]
    },
    {
     "name": "stdout",
     "output_type": "stream",
     "text": [
      "Maximum: 32.0\n"
     ]
    }
   ],
   "source": [
    "num1 = float(input(\"Enter the first number: \"))\n",
    "num2 = float(input(\"Enter the second number: \"))\n",
    "if num1 > num2:\n",
    "    print(\"Maximum:\", num1)\n",
    "else:\n",
    "    print(\"Maximum:\", num2)"
   ]
  },
  {
   "cell_type": "markdown",
   "id": "229a1c81-8e43-4e8a-9378-3544a712346c",
   "metadata": {},
   "source": [
    "### 4. Write a Python script to classify a given year as a leap year or not."
   ]
  },
  {
   "cell_type": "code",
   "execution_count": 83,
   "id": "92ced49f-3b1c-4f88-9687-213cb55bd0ef",
   "metadata": {},
   "outputs": [
    {
     "name": "stdin",
     "output_type": "stream",
     "text": [
      "Enter a year:  2012\n"
     ]
    },
    {
     "name": "stdout",
     "output_type": "stream",
     "text": [
      "Leap year\n"
     ]
    }
   ],
   "source": [
    "year = int(input(\"Enter a year: \"))\n",
    "if (year % 4 == 0 and year % 100 != 0) or (year % 400 == 0):\n",
    "    print(\"Leap year\")\n",
    "else:\n",
    "    print(\"Not a leap year\")"
   ]
  },
  {
   "cell_type": "markdown",
   "id": "e3241efd-1a85-4f1b-bfe5-ec82577f51e0",
   "metadata": {},
   "source": [
    "### 5. Create a program that checks whether a character is a vowel or a consonant."
   ]
  },
  {
   "cell_type": "code",
   "execution_count": 84,
   "id": "72ff22c8-754a-4327-80ba-cd3d7a87040a",
   "metadata": {},
   "outputs": [
    {
     "name": "stdin",
     "output_type": "stream",
     "text": [
      "Enter a character:  c\n"
     ]
    },
    {
     "name": "stdout",
     "output_type": "stream",
     "text": [
      "Consonant\n"
     ]
    }
   ],
   "source": [
    "char = input(\"Enter a character: \").lower()\n",
    "if char.isalpha() and len(char) == 1:\n",
    "    if char in \"aeiou\":\n",
    "        print(\"Vowel\")\n",
    "    else:\n",
    "        print(\"Consonant\")\n",
    "else:\n",
    "    print(\"Invalid input\")"
   ]
  },
  {
   "cell_type": "markdown",
   "id": "d97f73b4-ab7b-418c-bac2-782ead03817d",
   "metadata": {},
   "source": [
    "### 6. Implement a program to determine whether a given number is even or odd."
   ]
  },
  {
   "cell_type": "code",
   "execution_count": 85,
   "id": "8fcd3742-720c-48e5-9614-658a6ee06dc3",
   "metadata": {},
   "outputs": [
    {
     "name": "stdin",
     "output_type": "stream",
     "text": [
      "Enter a number:  99\n"
     ]
    },
    {
     "name": "stdout",
     "output_type": "stream",
     "text": [
      "Odd\n"
     ]
    }
   ],
   "source": [
    "num = int(input(\"Enter a number: \"))\n",
    "if num % 2 == 0:\n",
    "    print(\"Even\")\n",
    "else:\n",
    "    print(\"Odd\")"
   ]
  },
  {
   "cell_type": "markdown",
   "id": "0e0c4908-c011-421f-bbe4-b1ae5dab0fb9",
   "metadata": {},
   "source": [
    "### 7. Write a Python function to calculate the absolute value of a number without using the `abs()` function."
   ]
  },
  {
   "cell_type": "code",
   "execution_count": 86,
   "id": "4a11a80d-d6ff-4c5a-af74-2b945d258f49",
   "metadata": {},
   "outputs": [
    {
     "name": "stdin",
     "output_type": "stream",
     "text": [
      "Enter a number:  99.9999999\n"
     ]
    },
    {
     "name": "stdout",
     "output_type": "stream",
     "text": [
      "Absolute value: 99.9999999\n"
     ]
    }
   ],
   "source": [
    "number = float(input(\"Enter a number: \"))\n",
    "if number < 0:\n",
    "    abs_value = -number\n",
    "else:\n",
    "    abs_value = number\n",
    "print(\"Absolute value:\", abs_value)"
   ]
  },
  {
   "cell_type": "markdown",
   "id": "2bf954d8-d326-4c1c-a47a-105e33ae84d9",
   "metadata": {},
   "source": [
    "### 8. Develop a program that determines the largest of three given numbers using if-else statements."
   ]
  },
  {
   "cell_type": "code",
   "execution_count": 87,
   "id": "9e90edca-318f-43ed-8c0f-dfe083725c3e",
   "metadata": {},
   "outputs": [
    {
     "name": "stdin",
     "output_type": "stream",
     "text": [
      "Enter the first number:  9\n",
      "Enter the second number:  0\n",
      "Enter the third number:  90\n"
     ]
    },
    {
     "name": "stdout",
     "output_type": "stream",
     "text": [
      "Largest: 90.0\n"
     ]
    }
   ],
   "source": [
    "num1 = float(input(\"Enter the first number: \"))\n",
    "num2 = float(input(\"Enter the second number: \"))\n",
    "num3 = float(input(\"Enter the third number: \"))\n",
    "if num1 >= num2 and num1 >= num3:\n",
    "    print(\"Largest:\", num1)\n",
    "elif num2 >= num1 and num2 >= num3:\n",
    "    print(\"Largest:\", num2)\n",
    "else:\n",
    "    print(\"Largest:\", num3)"
   ]
  },
  {
   "cell_type": "markdown",
   "id": "ab960382-5ebe-4770-8834-71ea2cf3f05b",
   "metadata": {},
   "source": [
    "### 9. Create a program that checks if a given string is a palindrome."
   ]
  },
  {
   "cell_type": "code",
   "execution_count": 88,
   "id": "6190ca9c-27d1-4e5b-bb33-dde17f3d63a5",
   "metadata": {},
   "outputs": [
    {
     "name": "stdin",
     "output_type": "stream",
     "text": [
      "Enter a string:  AMANAMA\n"
     ]
    },
    {
     "name": "stdout",
     "output_type": "stream",
     "text": [
      "Palindrome\n"
     ]
    }
   ],
   "source": [
    "string = input(\"Enter a string: \").lower()\n",
    "if string == string[::-1]:\n",
    "    print(\"Palindrome\")\n",
    "else:\n",
    "    print(\"Not a palindrome\")"
   ]
  },
  {
   "cell_type": "markdown",
   "id": "80d4e54d-2db2-4bf6-9ccb-f57b3ddb7bbf",
   "metadata": {},
   "source": [
    "### 10. Write a Python program to calculate the grade based on a student's score."
   ]
  },
  {
   "cell_type": "code",
   "execution_count": 89,
   "id": "164aa47b-98b7-41e8-91bc-d939e65e029e",
   "metadata": {},
   "outputs": [
    {
     "name": "stdin",
     "output_type": "stream",
     "text": [
      "Enter the student's score:  92\n"
     ]
    },
    {
     "name": "stdout",
     "output_type": "stream",
     "text": [
      "Grade: A\n"
     ]
    }
   ],
   "source": [
    "score = float(input(\"Enter the student's score: \"))\n",
    "if 90 <= score <= 100:\n",
    "    print(\"Grade: A\")\n",
    "elif 80 <= score < 90:\n",
    "    print(\"Grade: B\")\n",
    "elif 70 <= score < 80:\n",
    "    print(\"Grade: C\")\n",
    "elif 60 <= score < 70:\n",
    "    print(\"Grade: D\")\n",
    "else:\n",
    "    print(\"Grade: F\")"
   ]
  },
  {
   "cell_type": "markdown",
   "id": "9c01b2a5-efea-4473-8499-32ff81cea77c",
   "metadata": {},
   "source": [
    "## Nested If-Else Statements:"
   ]
  },
  {
   "cell_type": "markdown",
   "id": "a886fc90-26d3-4021-a9ff-0810cfe43d7d",
   "metadata": {},
   "source": [
    "### 11. Write a program to find the largest among three numbers using nested if-else statements."
   ]
  },
  {
   "cell_type": "code",
   "execution_count": 90,
   "id": "0f17b8df-9687-4b94-8e99-ead2d6df88ca",
   "metadata": {},
   "outputs": [
    {
     "name": "stdin",
     "output_type": "stream",
     "text": [
      "Enter the first number:  12\n",
      "Enter the second number:  23\n",
      "Enter the third number:  43\n"
     ]
    },
    {
     "name": "stdout",
     "output_type": "stream",
     "text": [
      "Largest: 43.0\n"
     ]
    }
   ],
   "source": [
    "num1 = float(input(\"Enter the first number: \"))\n",
    "num2 = float(input(\"Enter the second number: \"))\n",
    "num3 = float(input(\"Enter the third number: \"))\n",
    "\n",
    "if num1 >= num2:\n",
    "    if num1 >= num3:\n",
    "        largest = num1\n",
    "    else:\n",
    "        largest = num3\n",
    "else:\n",
    "    if num2 >= num3:\n",
    "        largest = num2\n",
    "    else:\n",
    "        largest = num3\n",
    "\n",
    "print(\"Largest:\", largest)"
   ]
  },
  {
   "cell_type": "markdown",
   "id": "b1b70228-4753-43f8-9aa5-d6da18e84576",
   "metadata": {},
   "source": [
    "### 12. Implement a program to determine if a triangle is equilateral, isosceles, or scalene."
   ]
  },
  {
   "cell_type": "code",
   "execution_count": 92,
   "id": "4bfc1f65-68e2-4d99-b475-87b99ac60566",
   "metadata": {},
   "outputs": [
    {
     "name": "stdin",
     "output_type": "stream",
     "text": [
      "Enter the length of side 1:  12\n",
      "Enter the length of side 2:  12\n",
      "Enter the length of side 3:  10\n"
     ]
    },
    {
     "name": "stdout",
     "output_type": "stream",
     "text": [
      "Isosceles triangle\n"
     ]
    }
   ],
   "source": [
    "side1 = float(input(\"Enter the length of side 1: \"))\n",
    "side2 = float(input(\"Enter the length of side 2: \"))\n",
    "side3 = float(input(\"Enter the length of side 3: \"))\n",
    "\n",
    "if side1 == side2 == side3:\n",
    "    print(\"Equilateral triangle\")\n",
    "elif side1 == side2 or side1 == side3 or side2 == side3:\n",
    "    print(\"Isosceles triangle\")\n",
    "else:\n",
    "    print(\"Scalene triangle\")"
   ]
  },
  {
   "cell_type": "markdown",
   "id": "a877a5aa-a81f-46c6-88d7-a4371cc33b9e",
   "metadata": {},
   "source": [
    "### 13. Develop a program that checks if a year is a leap year and also if it is a century year."
   ]
  },
  {
   "cell_type": "code",
   "execution_count": 93,
   "id": "fb578ca1-4db4-4803-8e8b-10ae8f5feb4e",
   "metadata": {},
   "outputs": [
    {
     "name": "stdin",
     "output_type": "stream",
     "text": [
      "Enter a year:  2121\n"
     ]
    },
    {
     "name": "stdout",
     "output_type": "stream",
     "text": [
      "Not a leap year\n"
     ]
    }
   ],
   "source": [
    "year = int(input(\"Enter a year: \"))\n",
    "\n",
    "if year % 4 == 0:\n",
    "    if year % 100 == 0:\n",
    "        if year % 400 == 0:\n",
    "            print(\"Leap year and a century year\")\n",
    "        else:\n",
    "            print(\"Leap year but not a century year\")\n",
    "    else:\n",
    "        print(\"Leap year but not a century year\")\n",
    "else:\n",
    "    print(\"Not a leap year\")"
   ]
  },
  {
   "cell_type": "markdown",
   "id": "9959193c-3ecb-47e8-9ad4-91e8912dfb94",
   "metadata": {},
   "source": [
    "### 14. Write a Python script to determine if a number is positive, negative, or zero."
   ]
  },
  {
   "cell_type": "code",
   "execution_count": 94,
   "id": "5df3ed26-0177-4c2d-b6fa-053ce2992aee",
   "metadata": {},
   "outputs": [
    {
     "name": "stdin",
     "output_type": "stream",
     "text": [
      "Enter a number:  0\n"
     ]
    },
    {
     "name": "stdout",
     "output_type": "stream",
     "text": [
      "Zero\n"
     ]
    }
   ],
   "source": [
    "number = float(input(\"Enter a number: \"))\n",
    "\n",
    "if number > 0:\n",
    "    print(\"Positive number\")\n",
    "elif number < 0:\n",
    "    print(\"Negative number\")\n",
    "else:\n",
    "    print(\"Zero\")"
   ]
  },
  {
   "cell_type": "markdown",
   "id": "702e5306-9dc6-45d7-9832-6e33161c4d9b",
   "metadata": {},
   "source": [
    "### 15. Create a program to check if a person is a teenager (between 13 and 19 years old)."
   ]
  },
  {
   "cell_type": "code",
   "execution_count": 95,
   "id": "91061d8a-5215-4f06-a24b-451c37a2de50",
   "metadata": {},
   "outputs": [
    {
     "name": "stdin",
     "output_type": "stream",
     "text": [
      "Enter your age:  92\n"
     ]
    },
    {
     "name": "stdout",
     "output_type": "stream",
     "text": [
      "Not a teenager\n"
     ]
    }
   ],
   "source": [
    "age = int(input(\"Enter your age: \"))\n",
    "\n",
    "if 13 <= age <= 19:\n",
    "    print(\"Teenager\")\n",
    "else:\n",
    "    print(\"Not a teenager\")"
   ]
  },
  {
   "cell_type": "markdown",
   "id": "648b723e-a74d-4b23-86e5-31d11494f205",
   "metadata": {},
   "source": [
    "### 16. Develop a program that determines the type of angle based on its measure (acute, obtuse, or right)."
   ]
  },
  {
   "cell_type": "code",
   "execution_count": 96,
   "id": "59aa19ea-5f8d-46b3-a4d5-c9177519d283",
   "metadata": {},
   "outputs": [
    {
     "name": "stdin",
     "output_type": "stream",
     "text": [
      "Enter the angle measure:  153\n"
     ]
    },
    {
     "name": "stdout",
     "output_type": "stream",
     "text": [
      "Obtuse angle\n"
     ]
    }
   ],
   "source": [
    "angle = float(input(\"Enter the angle measure: \"))\n",
    "\n",
    "if angle < 90:\n",
    "    print(\"Acute angle\")\n",
    "elif angle == 90:\n",
    "    print(\"Right angle\")\n",
    "else:\n",
    "    print(\"Obtuse angle\")"
   ]
  },
  {
   "cell_type": "markdown",
   "id": "7806935b-42db-4ac6-a36e-72198de736d0",
   "metadata": {},
   "source": [
    "### 17. Write a Python program to calculate the roots of a quadratic equation."
   ]
  },
  {
   "cell_type": "code",
   "execution_count": 97,
   "id": "b6172282-de0f-40ee-b661-16112d1a3562",
   "metadata": {},
   "outputs": [
    {
     "name": "stdin",
     "output_type": "stream",
     "text": [
      "Enter the coefficient a:  -20\n",
      "Enter the coefficient b:  40\n",
      "Enter the coefficient c:  10\n"
     ]
    },
    {
     "name": "stdout",
     "output_type": "stream",
     "text": [
      "Roots are real and different: -0.22474487139158902, 2.224744871391589\n"
     ]
    }
   ],
   "source": [
    "import math\n",
    "\n",
    "a = float(input(\"Enter the coefficient a: \"))\n",
    "b = float(input(\"Enter the coefficient b: \"))\n",
    "c = float(input(\"Enter the coefficient c: \"))\n",
    "\n",
    "discriminant = b**2 - 4*a*c\n",
    "\n",
    "if discriminant > 0:\n",
    "    root1 = (-b + math.sqrt(discriminant)) / (2*a)\n",
    "    root2 = (-b - math.sqrt(discriminant)) / (2*a)\n",
    "    print(f\"Roots are real and different: {root1}, {root2}\")\n",
    "elif discriminant == 0:\n",
    "    root = -b / (2*a)\n",
    "    print(f\"Roots are real and identical: {root}\")\n",
    "else:\n",
    "    real_part = -b / (2*a)\n",
    "    imag_part = math.sqrt(abs(discriminant)) / (2*a)\n",
    "    print(f\"Roots are complex: {real_part} + {imag_part}i, {real_part} - {imag_part}i\")"
   ]
  },
  {
   "cell_type": "markdown",
   "id": "6f06529e-0e99-43d5-914e-6e36583a90e7",
   "metadata": {},
   "source": [
    "### 18. Implement a program to determine the day of the week based on a user-provided number (1 for Monday, 2 for Tuesday, etc.)."
   ]
  },
  {
   "cell_type": "code",
   "execution_count": 98,
   "id": "57df689b-17f4-4236-9b51-277a7b4861c5",
   "metadata": {},
   "outputs": [
    {
     "name": "stdin",
     "output_type": "stream",
     "text": [
      "Enter a day number (1-7):  7\n"
     ]
    },
    {
     "name": "stdout",
     "output_type": "stream",
     "text": [
      "Day of the week: Sunday\n"
     ]
    }
   ],
   "source": [
    "day_number = int(input(\"Enter a day number (1-7): \"))\n",
    "\n",
    "if 1 <= day_number <= 7:\n",
    "    days_of_week = [\"Monday\", \"Tuesday\", \"Wednesday\", \"Thursday\", \"Friday\", \"Saturday\", \"Sunday\"]\n",
    "    day_name = days_of_week[day_number - 1]\n",
    "    print(f\"Day of the week: {day_name}\")\n",
    "else:\n",
    "    print(\"Invalid day number\")"
   ]
  },
  {
   "cell_type": "markdown",
   "id": "0c0df63a-c5b5-43eb-b0b2-68d522745911",
   "metadata": {},
   "source": [
    "### 19. Create a program that determines if a year is a leap year and also if it is evenly divisible by 400."
   ]
  },
  {
   "cell_type": "code",
   "execution_count": 99,
   "id": "64ba174b-dba4-470d-9576-d09613b34d00",
   "metadata": {},
   "outputs": [
    {
     "name": "stdin",
     "output_type": "stream",
     "text": [
      "Enter a year:  2400\n"
     ]
    },
    {
     "name": "stdout",
     "output_type": "stream",
     "text": [
      "Leap year and divisible by 400\n"
     ]
    }
   ],
   "source": [
    "year = int(input(\"Enter a year: \"))\n",
    "\n",
    "if year % 4 == 0:\n",
    "    if year % 100 == 0:\n",
    "        if year % 400 == 0:\n",
    "            print(\"Leap year and divisible by 400\")\n",
    "        else:\n",
    "            print(\"Leap year but not divisible by 400\")\n",
    "    else:\n",
    "        print(\"Leap year but not divisible by 400\")\n",
    "else:\n",
    "    print(\"Not a leap year\")"
   ]
  },
  {
   "cell_type": "markdown",
   "id": "3f95bd63-4865-4495-8df9-50f1774b6026",
   "metadata": {},
   "source": [
    "### 20. Develop a program that checks if a given number is prime or not using nested if-else statements."
   ]
  },
  {
   "cell_type": "code",
   "execution_count": 100,
   "id": "5b803f7b-dc4b-4e2d-ba35-477f38938eef",
   "metadata": {},
   "outputs": [
    {
     "name": "stdin",
     "output_type": "stream",
     "text": [
      "Enter a number:  73\n"
     ]
    },
    {
     "name": "stdout",
     "output_type": "stream",
     "text": [
      "Prime number\n"
     ]
    }
   ],
   "source": [
    "num = int(input(\"Enter a number: \"))\n",
    "\n",
    "if num > 1:\n",
    "    for i in range(2, int(num**0.5) + 1):\n",
    "        if num % i == 0:\n",
    "            print(\"Not a prime number\")\n",
    "            break\n",
    "    else:\n",
    "        print(\"Prime number\")\n",
    "else:\n",
    "    print(\"Not a prime number\")"
   ]
  },
  {
   "cell_type": "markdown",
   "id": "6ca32182-ad50-4aa8-86d6-e304c39a5395",
   "metadata": {},
   "source": [
    "## Elif Statements:"
   ]
  },
  {
   "cell_type": "markdown",
   "id": "99d4632b-7363-4d64-a465-2faadcb8d91f",
   "metadata": {},
   "source": [
    "### 21. Write a Python program to assign grades based on different ranges of scores using elif statements."
   ]
  },
  {
   "cell_type": "code",
   "execution_count": 1,
   "id": "d828f032-f946-4896-89b0-7c912e7abfd6",
   "metadata": {},
   "outputs": [
    {
     "name": "stdin",
     "output_type": "stream",
     "text": [
      "Enter the student's score:  23\n"
     ]
    },
    {
     "name": "stdout",
     "output_type": "stream",
     "text": [
      "Grade: F\n"
     ]
    }
   ],
   "source": [
    "score = float(input(\"Enter the student's score: \"))\n",
    "\n",
    "if 90 <= score <= 100:\n",
    "    grade = 'A'\n",
    "elif 80 <= score < 90:\n",
    "    grade = 'B'\n",
    "elif 70 <= score < 80:\n",
    "    grade = 'C'\n",
    "elif 60 <= score < 70:\n",
    "    grade = 'D'\n",
    "elif score < 60:\n",
    "    grade = 'F'\n",
    "else:\n",
    "    grade = 'Invalid score'\n",
    "\n",
    "print(f\"Grade: {grade}\")"
   ]
  },
  {
   "cell_type": "markdown",
   "id": "f629d0c5-c87f-4fb6-9986-d4bde392376b",
   "metadata": {},
   "source": [
    "### 22. Implement a program to determine the type of a triangle based on its angles."
   ]
  },
  {
   "cell_type": "code",
   "execution_count": 2,
   "id": "0d64b0a9-2dd3-46c1-8764-24e2802d49b5",
   "metadata": {},
   "outputs": [
    {
     "name": "stdin",
     "output_type": "stream",
     "text": [
      "Enter the measure of angle 1:  90\n",
      "Enter the measure of angle 2:  45\n",
      "Enter the measure of angle 3:  45\n"
     ]
    },
    {
     "name": "stdout",
     "output_type": "stream",
     "text": [
      "Triangle type: Right-angled triangle\n"
     ]
    }
   ],
   "source": [
    "angle1 = int(input(\"Enter the measure of angle 1: \"))\n",
    "angle2 = int(input(\"Enter the measure of angle 2: \"))\n",
    "angle3 = int(input(\"Enter the measure of angle 3: \"))\n",
    "\n",
    "if angle1 + angle2 + angle3 == 180:\n",
    "    if angle1 == 60 and angle2 == 60 and angle3 == 60:\n",
    "        triangle_type = 'Equilateral triangle'\n",
    "    elif angle1 == 90 or angle2 == 90 or angle3 == 90:\n",
    "        triangle_type = 'Right-angled triangle'\n",
    "    else:\n",
    "        triangle_type = 'Scalene triangle'\n",
    "else:\n",
    "    triangle_type = 'Invalid triangle'\n",
    "\n",
    "print(f\"Triangle type: {triangle_type}\")"
   ]
  },
  {
   "cell_type": "markdown",
   "id": "fadc65ba-1cbc-445b-a5ce-9b1dd7e4bbeb",
   "metadata": {},
   "source": [
    "### 23. Develop a program to categorize a given person's BMI into underweight, normal, overweight, or obese using elif statements."
   ]
  },
  {
   "cell_type": "code",
   "execution_count": 3,
   "id": "ec686928-df11-4be4-a4cb-5606bb6bfce1",
   "metadata": {},
   "outputs": [
    {
     "name": "stdin",
     "output_type": "stream",
     "text": [
      "Enter the person's weight in kilograms:  80\n",
      "Enter the person's height in meters:  1.82\n"
     ]
    },
    {
     "name": "stdout",
     "output_type": "stream",
     "text": [
      "BMI Category: Normal weight\n"
     ]
    }
   ],
   "source": [
    "weight = float(input(\"Enter the person's weight in kilograms: \"))\n",
    "height = float(input(\"Enter the person's height in meters: \"))\n",
    "\n",
    "bmi = weight / (height**2)\n",
    "\n",
    "if bmi < 18.5:\n",
    "    category = 'Underweight'\n",
    "elif 18.5 <= bmi < 24.9:\n",
    "    category = 'Normal weight'\n",
    "elif 25 <= bmi < 29.9:\n",
    "    category = 'Overweight'\n",
    "else:\n",
    "    category = 'Obese'\n",
    "\n",
    "print(f\"BMI Category: {category}\")"
   ]
  },
  {
   "cell_type": "markdown",
   "id": "f7a8648c-d5ec-4e2f-8fa0-f7a6b575d1d2",
   "metadata": {},
   "source": [
    "### 24. Create a program that determines whether a given number is positive, negative, or zero using elif statements."
   ]
  },
  {
   "cell_type": "code",
   "execution_count": 4,
   "id": "41f35592-26c8-438e-a92e-b986eda25afc",
   "metadata": {},
   "outputs": [
    {
     "name": "stdin",
     "output_type": "stream",
     "text": [
      "Enter a number:  90\n"
     ]
    },
    {
     "name": "stdout",
     "output_type": "stream",
     "text": [
      "Positive number\n"
     ]
    }
   ],
   "source": [
    "number = float(input(\"Enter a number: \"))\n",
    "\n",
    "if number > 0:\n",
    "    result = 'Positive number'\n",
    "elif number < 0:\n",
    "    result = 'Negative number'\n",
    "else:\n",
    "    result = 'Zero'\n",
    "\n",
    "print(result)"
   ]
  },
  {
   "cell_type": "markdown",
   "id": "16761cfc-1762-498a-a273-aea47a3d26d7",
   "metadata": {},
   "source": [
    "### 25. Write a Python script to determine the type of a character (uppercase, lowercase, or special) using elif statements."
   ]
  },
  {
   "cell_type": "code",
   "execution_count": 5,
   "id": "a04ccfaa-7622-49ce-80fb-45bd25932f28",
   "metadata": {},
   "outputs": [
    {
     "name": "stdin",
     "output_type": "stream",
     "text": [
      "Enter a character:  A\n"
     ]
    },
    {
     "name": "stdout",
     "output_type": "stream",
     "text": [
      "Character type: Uppercase letter\n"
     ]
    }
   ],
   "source": [
    "character = input(\"Enter a character: \")\n",
    "\n",
    "if character.isalpha():\n",
    "    if character.islower():\n",
    "        char_type = 'Lowercase letter'\n",
    "    else:\n",
    "        char_type = 'Uppercase letter'\n",
    "else:\n",
    "    char_type = 'Special character'\n",
    "\n",
    "print(f\"Character type: {char_type}\")"
   ]
  },
  {
   "cell_type": "markdown",
   "id": "76569577-4f03-42d0-88df-a5a363e54dc7",
   "metadata": {},
   "source": [
    "### 26. Implement a program to calculate the discounted price based on different purchase amounts using elif statements."
   ]
  },
  {
   "cell_type": "code",
   "execution_count": 6,
   "id": "c7fed17a-7497-4665-b547-98305b8474eb",
   "metadata": {},
   "outputs": [
    {
     "name": "stdin",
     "output_type": "stream",
     "text": [
      "Enter the purchase amount:  890\n"
     ]
    },
    {
     "name": "stdout",
     "output_type": "stream",
     "text": [
      "Discounted price: $801.00\n"
     ]
    }
   ],
   "source": [
    "purchase_amount = float(input(\"Enter the purchase amount: \"))\n",
    "\n",
    "if purchase_amount >= 500:\n",
    "    discount_percentage = 10\n",
    "elif purchase_amount >= 300:\n",
    "    discount_percentage = 7\n",
    "elif purchase_amount >= 100:\n",
    "    discount_percentage = 5\n",
    "else:\n",
    "    discount_percentage = 0\n",
    "\n",
    "discount = (discount_percentage / 100) * purchase_amount\n",
    "discounted_price = purchase_amount - discount\n",
    "\n",
    "print(f\"Discounted price: ${discounted_price:.2f}\")"
   ]
  },
  {
   "cell_type": "markdown",
   "id": "7f2f87b7-7e1f-4183-9a57-6fe2e2593a93",
   "metadata": {},
   "source": [
    "### 27. Develop a program to calculate the electricity bill based on different consumption slabs using elif statements."
   ]
  },
  {
   "cell_type": "code",
   "execution_count": 7,
   "id": "e4091448-2316-45bc-a8a3-82713a904238",
   "metadata": {},
   "outputs": [
    {
     "name": "stdin",
     "output_type": "stream",
     "text": [
      "Enter the units consumed:  302\n"
     ]
    },
    {
     "name": "stdout",
     "output_type": "stream",
     "text": [
      "Electricity bill: $3020.00\n"
     ]
    }
   ],
   "source": [
    "units_consumed = float(input(\"Enter the units consumed: \"))\n",
    "\n",
    "if units_consumed <= 50:\n",
    "    rate = 2.5\n",
    "elif units_consumed <= 150:\n",
    "    rate = 5.0\n",
    "elif units_consumed <= 300:\n",
    "    rate = 7.5\n",
    "else:\n",
    "    rate = 10.0\n",
    "\n",
    "bill_amount = units_consumed * rate\n",
    "print(f\"Electricity bill: ${bill_amount:.2f}\")"
   ]
  },
  {
   "cell_type": "markdown",
   "id": "ffb3ae57-ee93-4035-82cc-c4a15b553351",
   "metadata": {},
   "source": [
    "### 28. Create a program to determine the type of quadrilateral based on its angles and sides using elif statements."
   ]
  },
  {
   "cell_type": "code",
   "execution_count": 12,
   "id": "ff4d76d5-c55b-49e8-9bc4-8eedcf5acc22",
   "metadata": {},
   "outputs": [
    {
     "name": "stdin",
     "output_type": "stream",
     "text": [
      "Enter the length of side 1:  9\n",
      "Enter the length of side 2:  10\n",
      "Enter the length of side 3:  9\n",
      "Enter the length of side 4:  10\n"
     ]
    },
    {
     "name": "stdout",
     "output_type": "stream",
     "text": [
      "Quadrilateral type: Rectangle\n"
     ]
    }
   ],
   "source": [
    "angle_sum =360\n",
    "side_lengths = [float(input(f\"Enter the length of side {i+1}: \")) for i in range(4)]\n",
    "if all(side > 0 for side in side_lengths):\n",
    "    if angle_sum == 360:\n",
    "        if all(side_lengths[i] == side_lengths[i - 1] for i in range(num_sides)):\n",
    "            quadrilateral_type = 'Square'\n",
    "        elif side_lengths[0] == side_lengths[2] and side_lengths[1] == side_lengths[3]:\n",
    "            quadrilateral_type = 'Rectangle'\n",
    "        else:\n",
    "            quadrilateral_type = 'Quadrilateral'\n",
    "    else:\n",
    "        quadrilateral_type = 'Invalid'\n",
    "else:\n",
    "    quadrilateral_type = 'Invalid (side length must be positive)'\n",
    "\n",
    "print(f\"Quadrilateral type: {quadrilateral_type}\")"
   ]
  },
  {
   "cell_type": "markdown",
   "id": "676e4f63-1b87-4cb5-98ed-af9af2b19695",
   "metadata": {},
   "source": [
    "### 29. Write a Python script to determine the season based on a user-provided month using elif statements."
   ]
  },
  {
   "cell_type": "code",
   "execution_count": 13,
   "id": "667b5762-4d8c-43eb-b1ab-fbef05ffa82b",
   "metadata": {},
   "outputs": [
    {
     "name": "stdin",
     "output_type": "stream",
     "text": [
      "Enter the month (1-12):  9\n"
     ]
    },
    {
     "name": "stdout",
     "output_type": "stream",
     "text": [
      "Season: Autumn\n"
     ]
    }
   ],
   "source": [
    "month = int(input(\"Enter the month (1-12): \"))\n",
    "\n",
    "if 1 <= month <= 12:\n",
    "    if 3 <= month <= 5:\n",
    "        season = 'Spring'\n",
    "    elif 6 <= month <= 8:\n",
    "        season = 'Summer'\n",
    "    elif 9 <= month <= 11:\n",
    "        season = 'Autumn'\n",
    "    else:\n",
    "        season = 'Winter'\n",
    "else:\n",
    "    season = 'Invalid month'\n",
    "\n",
    "print(f\"Season: {season}\")"
   ]
  },
  {
   "cell_type": "markdown",
   "id": "2032758c-16ab-41b6-ad42-9ae4e72b9231",
   "metadata": {},
   "source": [
    "### 30. Implement a program to determine the type of a year (leap or common) and month (30 or 31 days) using elif statements."
   ]
  },
  {
   "cell_type": "code",
   "execution_count": 14,
   "id": "0fe2d7bb-1a9c-41d5-9d07-a4b33fa94796",
   "metadata": {},
   "outputs": [
    {
     "name": "stdin",
     "output_type": "stream",
     "text": [
      "Enter a year:  9\n",
      "Enter a month (1-12):  7\n"
     ]
    },
    {
     "name": "stdout",
     "output_type": "stream",
     "text": [
      "Year type: Common year\n",
      "Month type: 31 days\n"
     ]
    }
   ],
   "source": [
    "year = int(input(\"Enter a year: \"))\n",
    "month = int(input(\"Enter a month (1-12): \"))\n",
    "\n",
    "if 1 <= month <= 12:\n",
    "    if month in {1, 3, 5, 7, 8, 10, 12}:\n",
    "        days_in_month = 31\n",
    "    elif month == 2:\n",
    "        if (year % 4 == 0 and year % 100 != 0) or (year % 400 == 0):\n",
    "            days_in_month = 29\n",
    "        else:\n",
    "            days_in_month = 28\n",
    "    else:\n",
    "        days_in_month = 30\n",
    "else:\n",
    "    days_in_month = -1\n",
    "\n",
    "if days_in_month != -1:\n",
    "    print(f\"Year type: {'Leap year' if days_in_month == 29 else 'Common year'}\")\n",
    "    print(f\"Month type: {days_in_month} days\")\n",
    "else:\n",
    "    print(\"Invalid month\")"
   ]
  },
  {
   "cell_type": "markdown",
   "id": "f147ccad-3e9e-48fd-8a07-9c99690690b5",
   "metadata": {},
   "source": [
    "## Basic Level:"
   ]
  },
  {
   "cell_type": "markdown",
   "id": "b0462611-15a0-4172-ad91-65d1f6413199",
   "metadata": {},
   "source": [
    "### 1. Write a Python program that checks if a given number is positive, negative, or zero."
   ]
  },
  {
   "cell_type": "code",
   "execution_count": 15,
   "id": "215cfdf4-1f14-4499-a55e-05616f60b192",
   "metadata": {},
   "outputs": [
    {
     "name": "stdin",
     "output_type": "stream",
     "text": [
      "Enter a number:  9\n"
     ]
    },
    {
     "name": "stdout",
     "output_type": "stream",
     "text": [
      "Positive number\n"
     ]
    }
   ],
   "source": [
    "number = float(input(\"Enter a number: \"))\n",
    "\n",
    "if number > 0:\n",
    "    print(\"Positive number\")\n",
    "elif number < 0:\n",
    "    print(\"Negative number\")\n",
    "else:\n",
    "    print(\"Zero\")"
   ]
  },
  {
   "cell_type": "markdown",
   "id": "ba4e75ca-8681-41a7-a4da-cd7032c564e2",
   "metadata": {},
   "source": [
    "### 2. Create a program to determine if a person is eligible to vote based on their age."
   ]
  },
  {
   "cell_type": "code",
   "execution_count": 16,
   "id": "520de93e-00f9-47ae-831a-b15b3783f07b",
   "metadata": {},
   "outputs": [
    {
     "name": "stdin",
     "output_type": "stream",
     "text": [
      "Enter your age:  4\n"
     ]
    },
    {
     "name": "stdout",
     "output_type": "stream",
     "text": [
      "You are not eligible to vote yet.\n"
     ]
    }
   ],
   "source": [
    "age = int(input(\"Enter your age: \"))\n",
    "\n",
    "if age >= 18:\n",
    "    print(\"You are eligible to vote.\")\n",
    "else:\n",
    "    print(\"You are not eligible to vote yet.\")"
   ]
  },
  {
   "cell_type": "markdown",
   "id": "c1a8f1be-34e2-413e-aa08-27f590185f5d",
   "metadata": {},
   "source": [
    "### 3. Write a program to find the maximum of two given numbers using conditional statements."
   ]
  },
  {
   "cell_type": "code",
   "execution_count": 17,
   "id": "948440e8-55bd-4821-a344-cc43fc4ebfe0",
   "metadata": {},
   "outputs": [
    {
     "name": "stdin",
     "output_type": "stream",
     "text": [
      "Enter the first number:  9\n",
      "Enter the second number:  90\n"
     ]
    },
    {
     "name": "stdout",
     "output_type": "stream",
     "text": [
      "The maximum number is: 90.0\n"
     ]
    }
   ],
   "source": [
    "num1 = float(input(\"Enter the first number: \"))\n",
    "num2 = float(input(\"Enter the second number: \"))\n",
    "\n",
    "if num1 > num2:\n",
    "    print(f\"The maximum number is: {num1}\")\n",
    "elif num1 < num2:\n",
    "    print(f\"The maximum number is: {num2}\")\n",
    "else:\n",
    "    print(\"Both numbers are equal.\")"
   ]
  },
  {
   "cell_type": "markdown",
   "id": "0fc1bcf1-8799-41ab-b3cf-cd45908946ec",
   "metadata": {},
   "source": [
    "### 4. Develop a program that calculates the grade of a student based on their exam score."
   ]
  },
  {
   "cell_type": "code",
   "execution_count": 18,
   "id": "db0922c2-2d4d-4587-8280-8b9f0d36ea69",
   "metadata": {},
   "outputs": [
    {
     "name": "stdin",
     "output_type": "stream",
     "text": [
      "Enter the student's exam score:  79\n"
     ]
    },
    {
     "name": "stdout",
     "output_type": "stream",
     "text": [
      "The student's grade is: C\n"
     ]
    }
   ],
   "source": [
    "exam_score = float(input(\"Enter the student's exam score: \"))\n",
    "\n",
    "if 90 <= exam_score <= 100:\n",
    "    grade = 'A'\n",
    "elif 80 <= exam_score < 90:\n",
    "    grade = 'B'\n",
    "elif 70 <= exam_score < 80:\n",
    "    grade = 'C'\n",
    "elif 60 <= exam_score < 70:\n",
    "    grade = 'D'\n",
    "else:\n",
    "    grade = 'F'\n",
    "\n",
    "print(f\"The student's grade is: {grade}\")"
   ]
  },
  {
   "cell_type": "markdown",
   "id": "8787a8c3-acd2-469a-a62f-be930ce6e832",
   "metadata": {},
   "source": [
    "### 5. Create a program that checks if a year is a leap year or not."
   ]
  },
  {
   "cell_type": "code",
   "execution_count": 19,
   "id": "66b3c8be-073f-4e5a-8748-e2b8de01aa1c",
   "metadata": {},
   "outputs": [
    {
     "name": "stdin",
     "output_type": "stream",
     "text": [
      "Enter a year:  2012\n"
     ]
    },
    {
     "name": "stdout",
     "output_type": "stream",
     "text": [
      "2012 is a leap year.\n"
     ]
    }
   ],
   "source": [
    "year = int(input(\"Enter a year: \"))\n",
    "\n",
    "if (year % 4 == 0 and year % 100 != 0) or (year % 400 == 0):\n",
    "    print(f\"{year} is a leap year.\")\n",
    "else:\n",
    "    print(f\"{year} is not a leap year.\")"
   ]
  },
  {
   "cell_type": "markdown",
   "id": "23589bf0-1b06-46e8-8217-01371c424c3e",
   "metadata": {},
   "source": [
    "### 6. Write a program to classify a triangle based on its sides' lengths."
   ]
  },
  {
   "cell_type": "code",
   "execution_count": 20,
   "id": "30c6ae24-8ff1-4774-a15e-cf9bbc3ec6d7",
   "metadata": {},
   "outputs": [
    {
     "name": "stdin",
     "output_type": "stream",
     "text": [
      "Enter the length of side 1:  90\n",
      "Enter the length of side 2:  90\n",
      "Enter the length of side 3:  90\n"
     ]
    },
    {
     "name": "stdout",
     "output_type": "stream",
     "text": [
      "Equilateral triangle\n"
     ]
    }
   ],
   "source": [
    "side1 = float(input(\"Enter the length of side 1: \"))\n",
    "side2 = float(input(\"Enter the length of side 2: \"))\n",
    "side3 = float(input(\"Enter the length of side 3: \"))\n",
    "\n",
    "if side1 == side2 == side3:\n",
    "    print(\"Equilateral triangle\")\n",
    "elif side1 == side2 or side1 == side3 or side2 == side3:\n",
    "    print(\"Isosceles triangle\")\n",
    "else:\n",
    "    print(\"Scalene triangle\")"
   ]
  },
  {
   "cell_type": "markdown",
   "id": "0c833884-f65d-4ac2-99c1-e991af4a36b6",
   "metadata": {},
   "source": [
    "### 7. Build a program that determines the largest of three given numbers."
   ]
  },
  {
   "cell_type": "code",
   "execution_count": 21,
   "id": "f761151d-1e54-4091-b883-5f30e3232be3",
   "metadata": {},
   "outputs": [
    {
     "name": "stdin",
     "output_type": "stream",
     "text": [
      "Enter the first number:  79\n",
      "Enter the second number:  0987\n",
      "Enter the third number:  09\n"
     ]
    },
    {
     "name": "stdout",
     "output_type": "stream",
     "text": [
      "The largest number is: 987.0\n"
     ]
    }
   ],
   "source": [
    "num1 = float(input(\"Enter the first number: \"))\n",
    "num2 = float(input(\"Enter the second number: \"))\n",
    "num3 = float(input(\"Enter the third number: \"))\n",
    "\n",
    "largest_number = max(num1, num2, num3)\n",
    "print(f\"The largest number is: {largest_number}\")"
   ]
  },
  {
   "cell_type": "markdown",
   "id": "e2d619f2-b6c5-4163-bfe4-862efe1114d0",
   "metadata": {},
   "source": [
    "### 8. Develop a program that checks whether a character is a vowel or a consonant."
   ]
  },
  {
   "cell_type": "code",
   "execution_count": 22,
   "id": "0abf9105-0419-4c07-bdf2-85369fedf405",
   "metadata": {},
   "outputs": [
    {
     "name": "stdin",
     "output_type": "stream",
     "text": [
      "Enter a character:  a\n"
     ]
    },
    {
     "name": "stdout",
     "output_type": "stream",
     "text": [
      "Vowel\n"
     ]
    }
   ],
   "source": [
    "character = input(\"Enter a character: \").lower()\n",
    "\n",
    "if character.isalpha():\n",
    "    if character in 'aeiou':\n",
    "        print(\"Vowel\")\n",
    "    else:\n",
    "        print(\"Consonant\")\n",
    "else:\n",
    "    print(\"Invalid input (not a letter).\")"
   ]
  },
  {
   "cell_type": "markdown",
   "id": "cd92c8d4-04ea-42de-af93-c467923b398f",
   "metadata": {},
   "source": [
    "### 9. Create a program to calculate the total cost of a shopping cart based on discounts."
   ]
  },
  {
   "cell_type": "code",
   "execution_count": 23,
   "id": "f0b42b9f-5edd-489a-8396-f9e225b2514e",
   "metadata": {},
   "outputs": [
    {
     "name": "stdin",
     "output_type": "stream",
     "text": [
      "Enter the total cost of the shopping cart:  909\n"
     ]
    },
    {
     "name": "stdout",
     "output_type": "stream",
     "text": [
      "Total cost after discount: $818.10\n"
     ]
    }
   ],
   "source": [
    "total_cost = float(input(\"Enter the total cost of the shopping cart: \"))\n",
    "\n",
    "if total_cost >= 100:\n",
    "    discount = 0.1 * total_cost\n",
    "    total_cost -= discount\n",
    "\n",
    "print(f\"Total cost after discount: ${total_cost:.2f}\")"
   ]
  },
  {
   "cell_type": "markdown",
   "id": "3a52e24d-2841-410e-b2f6-472094de03b9",
   "metadata": {},
   "source": [
    "### 10. Write a program that checks if a given number is even or odd."
   ]
  },
  {
   "cell_type": "code",
   "execution_count": 24,
   "id": "d3851256-a85b-4ff1-8339-07bb3311de7f",
   "metadata": {},
   "outputs": [
    {
     "name": "stdin",
     "output_type": "stream",
     "text": [
      "Enter a number:  0981\n"
     ]
    },
    {
     "name": "stdout",
     "output_type": "stream",
     "text": [
      "Odd number\n"
     ]
    }
   ],
   "source": [
    "number = int(input(\"Enter a number: \"))\n",
    "\n",
    "if number % 2 == 0:\n",
    "    print(\"Even number\")\n",
    "else:\n",
    "    print(\"Odd number\")"
   ]
  },
  {
   "cell_type": "markdown",
   "id": "6039f0ce-6f86-46b2-8a7f-e43bd5612cc1",
   "metadata": {},
   "source": [
    "## Intermediate Level:"
   ]
  },
  {
   "cell_type": "markdown",
   "id": "e837f62a-7d90-4a0f-b2fc-3ac93b38bcbb",
   "metadata": {},
   "source": [
    "### 11. Write a program that calculates the roots of a quadratic equation ."
   ]
  },
  {
   "cell_type": "code",
   "execution_count": 25,
   "id": "90074411-8d77-4944-90f2-739502d30b87",
   "metadata": {},
   "outputs": [
    {
     "name": "stdout",
     "output_type": "stream",
     "text": [
      "The roots of the quadratic equation are: ((2+0j), (1+0j))\n"
     ]
    }
   ],
   "source": [
    "import cmath\n",
    "\n",
    "def quadratic_roots(a, b, c):\n",
    "    # Calculate the discriminant\n",
    "    delta = cmath.sqrt(b**2 - 4*a*c)\n",
    "\n",
    "    # Calculate the roots\n",
    "    root1 = (-b + delta) / (2 * a)\n",
    "    root2 = (-b - delta) / (2 * a)\n",
    "\n",
    "    return root1, root2\n",
    "\n",
    "# Example usage\n",
    "a, b, c = 1, -3, 2\n",
    "roots = quadratic_roots(a, b, c)\n",
    "print(f\"The roots of the quadratic equation are: {roots}\")"
   ]
  },
  {
   "cell_type": "markdown",
   "id": "cdcc0965-5faf-4282-a6d9-5e8dd811f425",
   "metadata": {},
   "source": [
    "### 12. Create a program that determines the day of the week based on the day number (1-7)."
   ]
  },
  {
   "cell_type": "code",
   "execution_count": 26,
   "id": "2ae951cf-6d41-47c1-b3ed-f3e7b394fdc4",
   "metadata": {},
   "outputs": [
    {
     "name": "stdin",
     "output_type": "stream",
     "text": [
      "Enter a day number (1-7):  6\n"
     ]
    },
    {
     "name": "stdout",
     "output_type": "stream",
     "text": [
      "The day is: Saturday\n"
     ]
    }
   ],
   "source": [
    "day_number = int(input(\"Enter a day number (1-7): \"))\n",
    "\n",
    "days_of_week = [\"Monday\", \"Tuesday\", \"Wednesday\", \"Thursday\", \"Friday\", \"Saturday\", \"Sunday\"]\n",
    "\n",
    "if 1 <= day_number <= 7:\n",
    "    day_of_week = days_of_week[day_number - 1]\n",
    "    print(f\"The day is: {day_of_week}\")\n",
    "else:\n",
    "    print(\"Invalid day number. Please enter a number between 1 and 7.\")"
   ]
  },
  {
   "cell_type": "markdown",
   "id": "e91d60a1-09ec-49cd-a5a5-16b28bf6be64",
   "metadata": {},
   "source": [
    "### 13. Develop a program that calculates the factorial of a given number using recursion."
   ]
  },
  {
   "cell_type": "code",
   "execution_count": 27,
   "id": "39469988-bbe9-4639-a805-1cbc8966aecc",
   "metadata": {},
   "outputs": [
    {
     "name": "stdin",
     "output_type": "stream",
     "text": [
      "Enter a number to calculate its factorial:  9\n"
     ]
    },
    {
     "name": "stdout",
     "output_type": "stream",
     "text": [
      "The factorial of 9 is: 362880\n"
     ]
    }
   ],
   "source": [
    "def factorial(n):\n",
    "    if n == 0 or n == 1:\n",
    "        return 1\n",
    "    else:\n",
    "        return n * factorial(n - 1)\n",
    "\n",
    "# Example usage\n",
    "number = int(input(\"Enter a number to calculate its factorial: \"))\n",
    "result = factorial(number)\n",
    "print(f\"The factorial of {number} is: {result}\")"
   ]
  },
  {
   "cell_type": "markdown",
   "id": "e7a5d9ca-46e9-4d14-b7ee-ac64810afc17",
   "metadata": {},
   "source": [
    "### 14. Write a program to find the largest among three numbers without using the `max()` function."
   ]
  },
  {
   "cell_type": "code",
   "execution_count": 28,
   "id": "b71ac128-16af-414b-9b91-e6b096e9fbed",
   "metadata": {},
   "outputs": [
    {
     "name": "stdin",
     "output_type": "stream",
     "text": [
      "Enter the first number:  8\n",
      "Enter the second number:  9\n",
      "Enter the third number:  0\n"
     ]
    },
    {
     "name": "stdout",
     "output_type": "stream",
     "text": [
      "The largest number is: 9.0\n"
     ]
    }
   ],
   "source": [
    "num1 = float(input(\"Enter the first number: \"))\n",
    "num2 = float(input(\"Enter the second number: \"))\n",
    "num3 = float(input(\"Enter the third number: \"))\n",
    "\n",
    "largest_number = num1\n",
    "\n",
    "if num2 > largest_number:\n",
    "    largest_number = num2\n",
    "\n",
    "if num3 > largest_number:\n",
    "    largest_number = num3\n",
    "\n",
    "print(f\"The largest number is: {largest_number}\")"
   ]
  },
  {
   "cell_type": "markdown",
   "id": "a6e5bec2-5039-4069-ac63-acfabbdbc87f",
   "metadata": {},
   "source": [
    "### 15. Create a program that simulates a basic ATM transaction menu."
   ]
  },
  {
   "cell_type": "code",
   "execution_count": 29,
   "id": "0b811fe2-b730-4c91-8d87-af85c4f84b91",
   "metadata": {},
   "outputs": [
    {
     "name": "stdout",
     "output_type": "stream",
     "text": [
      "\n",
      "ATM Menu:\n",
      "1. Check Balance\n",
      "2. Deposit\n",
      "3. Withdraw\n",
      "4. Quit\n"
     ]
    },
    {
     "name": "stdin",
     "output_type": "stream",
     "text": [
      "Enter your choice (1-4):  2\n",
      "Enter the deposit amount: $ 99\n"
     ]
    },
    {
     "name": "stdout",
     "output_type": "stream",
     "text": [
      "Deposit successful. Your new balance is: $1099.0\n",
      "\n",
      "ATM Menu:\n",
      "1. Check Balance\n",
      "2. Deposit\n",
      "3. Withdraw\n",
      "4. Quit\n"
     ]
    },
    {
     "name": "stdin",
     "output_type": "stream",
     "text": [
      "Enter your choice (1-4):  4\n"
     ]
    },
    {
     "name": "stdout",
     "output_type": "stream",
     "text": [
      "Thank you for using the ATM. Goodbye!\n"
     ]
    }
   ],
   "source": [
    "balance = 1000  # Initial balance\n",
    "\n",
    "while True:\n",
    "    print(\"\\nATM Menu:\")\n",
    "    print(\"1. Check Balance\")\n",
    "    print(\"2. Deposit\")\n",
    "    print(\"3. Withdraw\")\n",
    "    print(\"4. Quit\")\n",
    "\n",
    "    choice = int(input(\"Enter your choice (1-4): \"))\n",
    "\n",
    "    if choice == 1:\n",
    "        print(f\"Your balance is: ${balance}\")\n",
    "    elif choice == 2:\n",
    "        deposit_amount = float(input(\"Enter the deposit amount: $\"))\n",
    "        balance += deposit_amount\n",
    "        print(f\"Deposit successful. Your new balance is: ${balance}\")\n",
    "    elif choice == 3:\n",
    "        withdrawal_amount = float(input(\"Enter the withdrawal amount: $\"))\n",
    "        if withdrawal_amount > balance:\n",
    "            print(\"Insufficient funds.\")\n",
    "        else:\n",
    "            balance -= withdrawal_amount\n",
    "            print(f\"Withdrawal successful. Your new balance is: ${balance}\")\n",
    "    elif choice == 4:\n",
    "        print(\"Thank you for using the ATM. Goodbye!\")\n",
    "        break\n",
    "    else:\n",
    "        print(\"Invalid choice. Please enter a number between 1 and 4.\")"
   ]
  },
  {
   "cell_type": "markdown",
   "id": "b0c4f0ef-e161-48d3-bfbb-1944db0f34b5",
   "metadata": {},
   "source": [
    "### 16. Build a program that checks if a given string is a palindrome or not."
   ]
  },
  {
   "cell_type": "code",
   "execution_count": 30,
   "id": "1b3e683e-ecd7-4cc9-8e12-b0d75723f142",
   "metadata": {},
   "outputs": [
    {
     "name": "stdin",
     "output_type": "stream",
     "text": [
      "Enter a string:  AMANAMA\n"
     ]
    },
    {
     "name": "stdout",
     "output_type": "stream",
     "text": [
      "It is a palindrome.\n"
     ]
    }
   ],
   "source": [
    "def is_palindrome(string):\n",
    "    cleaned_string = \"\".join(char.lower() for char in string if char.isalnum())\n",
    "    return cleaned_string == cleaned_string[::-1]\n",
    "\n",
    "# Example usage\n",
    "input_string = input(\"Enter a string: \")\n",
    "if is_palindrome(input_string):\n",
    "    print(\"It is a palindrome.\")\n",
    "else:\n",
    "    print(\"It is not a palindrome.\")"
   ]
  },
  {
   "cell_type": "markdown",
   "id": "e3447f65-83ca-4746-b946-cba0b5cc33a1",
   "metadata": {},
   "source": [
    "### 17. Write a program that calculates the average of a list of numbers, excluding the smallest and largest values."
   ]
  },
  {
   "cell_type": "code",
   "execution_count": 31,
   "id": "f81dd485-3f0d-43b0-925d-1c110ed19cf3",
   "metadata": {},
   "outputs": [
    {
     "name": "stdin",
     "output_type": "stream",
     "text": [
      "Enter a list of numbers separated by spaces:  1 23 42 54 12 34 32 12 8 09 9\n"
     ]
    },
    {
     "name": "stdout",
     "output_type": "stream",
     "text": [
      "The average (excluding smallest and largest) is: 20.11111111111111\n"
     ]
    }
   ],
   "source": [
    "numbers = [float(num) for num in input(\"Enter a list of numbers separated by spaces: \").split()]\n",
    "\n",
    "if len(numbers) < 3:\n",
    "    print(\"At least three numbers are required.\")\n",
    "else:\n",
    "    numbers.sort()\n",
    "    trimmed_numbers = numbers[1:-1]  # Exclude the smallest and largest values\n",
    "    average = sum(trimmed_numbers) / len(trimmed_numbers)\n",
    "    print(f\"The average (excluding smallest and largest) is: {average}\")"
   ]
  },
  {
   "cell_type": "markdown",
   "id": "536568eb-ead1-4f24-a57f-eb3489061e4e",
   "metadata": {},
   "source": [
    "### 18. Develop a program that converts a given temperature from Celsius to Fahrenheit."
   ]
  },
  {
   "cell_type": "code",
   "execution_count": 32,
   "id": "1d7c7b75-0302-4d4a-9806-1d295c213c15",
   "metadata": {},
   "outputs": [
    {
     "name": "stdin",
     "output_type": "stream",
     "text": [
      "Enter the temperature in Celsius:  90\n"
     ]
    },
    {
     "name": "stdout",
     "output_type": "stream",
     "text": [
      "The temperature in Fahrenheit is: 194.0 °F\n"
     ]
    }
   ],
   "source": [
    "celsius_temperature = float(input(\"Enter the temperature in Celsius: \"))\n",
    "fahrenheit_temperature = (celsius_temperature * 9/5) + 32\n",
    "print(f\"The temperature in Fahrenheit is: {fahrenheit_temperature} °F\")"
   ]
  },
  {
   "cell_type": "markdown",
   "id": "291c2a8d-5541-4cd6-948d-60724c565a2e",
   "metadata": {},
   "source": [
    "### 19. Create a program that simulates a basic calculator for addition, subtraction, multiplication, and division."
   ]
  },
  {
   "cell_type": "code",
   "execution_count": 33,
   "id": "ddf5fc6b-cbcc-4d6b-aa6c-c2af45b73dc8",
   "metadata": {},
   "outputs": [
    {
     "name": "stdin",
     "output_type": "stream",
     "text": [
      "Enter the first number:  90\n",
      "Enter the second number:  89\n",
      "Enter the operation (+, -, *, /):  /\n"
     ]
    },
    {
     "name": "stdout",
     "output_type": "stream",
     "text": [
      "The result is: 1.0112359550561798\n"
     ]
    }
   ],
   "source": [
    "def add(x, y):\n",
    "    return x + y\n",
    "\n",
    "def subtract(x, y):\n",
    "    return x - y\n",
    "\n",
    "def multiply(x, y):\n",
    "    return x * y\n",
    "\n",
    "def divide(x, y):\n",
    "    if y != 0:\n",
    "        return x / y\n",
    "    else:\n",
    "        return \"Cannot divide by zero.\"\n",
    "\n",
    "# Example usage\n",
    "num1 = float(input(\"Enter the first number: \"))\n",
    "num2 = float(input(\"Enter the second number: \"))\n",
    "operation = input(\"Enter the operation (+, -, *, /): \")\n",
    "\n",
    "if operation == '+':\n",
    "    result = add(num1, num2)\n",
    "elif operation == '-':\n",
    "    result = subtract(num1, num2)\n",
    "elif operation == '*':\n",
    "    result = multiply(num1, num2)\n",
    "elif operation == '/':\n",
    "    result = divide(num1, num2)\n",
    "else:\n",
    "    result = \"Invalid operation.\"\n",
    "\n",
    "print(f\"The result is: {result}\")"
   ]
  },
  {
   "cell_type": "markdown",
   "id": "b866f595-f7fb-4503-a293-404ff3fb720c",
   "metadata": {},
   "source": [
    "### 20. Write a program that determines the roots of a cubic equation using the Cardano formula."
   ]
  },
  {
   "cell_type": "code",
   "execution_count": 34,
   "id": "1ac7a80e-ebf6-4b8b-be37-f5e20351c085",
   "metadata": {},
   "outputs": [
    {
     "name": "stdout",
     "output_type": "stream",
     "text": [
      "The roots of the cubic equation are: ((1-0j), (3+1.1102230246251565e-16j), (2.0000000000000004-7.401486830834377e-17j))\n"
     ]
    }
   ],
   "source": [
    "import cmath\n",
    "\n",
    "def cubic_roots(a, b, c, d):\n",
    "    delta0 = b**2 - 3*a*c\n",
    "    delta1 = 2*b**3 - 9*a*b*c + 27*a**2*d\n",
    "    C = (delta1 + cmath.sqrt(delta1**2 - 4*delta0**3)) / 2\n",
    "    u = C**(1/3)\n",
    "\n",
    "    if u == 0:\n",
    "        root1 = -b / (3*a)\n",
    "    else:\n",
    "        root1 = -1/(3*a) * (b + u + delta0/u)\n",
    "\n",
    "    omega = cmath.exp(2j * cmath.pi / 3)\n",
    "    root2 = -1/(3*a) * (b + omega*u + delta0/(omega*u))\n",
    "    root3 = -1/(3*a) * (b + omega**2*u + delta0/(omega**2*u))\n",
    "\n",
    "    return root1, root2, root3\n",
    "\n",
    "# Example usage\n",
    "a, b, c, d = 1, -6, 11, -6\n",
    "roots = cubic_roots(a, b, c, d)\n",
    "print(f\"The roots of the cubic equation are: {roots}\")"
   ]
  },
  {
   "cell_type": "markdown",
   "id": "f2359bac-71f2-4a49-bb3e-26a3e68a8548",
   "metadata": {},
   "source": [
    "## Advanced Level:"
   ]
  },
  {
   "cell_type": "markdown",
   "id": "a8bf0cf4-34d9-42ed-bbb0-762956bcba7d",
   "metadata": {},
   "source": [
    "### 21. Create a program that calculates the income tax based on the user's income and tax brackets."
   ]
  },
  {
   "cell_type": "code",
   "execution_count": 37,
   "id": "19bca16b-1140-4767-b650-29e4da46c236",
   "metadata": {},
   "outputs": [
    {
     "name": "stdin",
     "output_type": "stream",
     "text": [
      "Enter your income:  56000\n"
     ]
    },
    {
     "name": "stdout",
     "output_type": "stream",
     "text": [
      "Your income tax is: $8667.0\n"
     ]
    }
   ],
   "source": [
    "def calculate_income_tax(income):\n",
    "    if income <= 18200:\n",
    "        tax = 0\n",
    "    elif 18201 <= income <= 45000:\n",
    "        tax = (income - 18200) * 0.19\n",
    "    elif 45001 <= income <= 120000:\n",
    "        tax = 5092 + (income - 45000) * 0.325\n",
    "    elif 120001 <= income <= 180000:\n",
    "        tax = 29467 + (income - 120000) * 0.37\n",
    "    else:\n",
    "        tax = 51667 + (income - 180000) * 0.45\n",
    "\n",
    "    return tax\n",
    "\n",
    "# Example usage\n",
    "user_income = float(input(\"Enter your income: \"))\n",
    "income_tax = calculate_income_tax(user_income)\n",
    "print(f\"Your income tax is: ${income_tax}\")"
   ]
  },
  {
   "cell_type": "markdown",
   "id": "7d579dfc-1469-46cd-8298-f397399ac16f",
   "metadata": {},
   "source": [
    "### 22. Write a program that simulates a rock-paper-scissors game against the computer."
   ]
  },
  {
   "cell_type": "code",
   "execution_count": 38,
   "id": "144b8d62-9960-419e-8f5f-607c7d683dd0",
   "metadata": {},
   "outputs": [
    {
     "name": "stdin",
     "output_type": "stream",
     "text": [
      "Choose rock, paper, or scissors:  paper\n"
     ]
    },
    {
     "name": "stdout",
     "output_type": "stream",
     "text": [
      "You chose: paper\n",
      "Computer chose: rock\n",
      "You win!\n"
     ]
    }
   ],
   "source": [
    "import random\n",
    "\n",
    "def play_rock_paper_scissors(user_choice):\n",
    "    choices = ['rock', 'paper', 'scissors']\n",
    "    computer_choice = random.choice(choices)\n",
    "\n",
    "    print(f\"You chose: {user_choice}\")\n",
    "    print(f\"Computer chose: {computer_choice}\")\n",
    "\n",
    "    if user_choice == computer_choice:\n",
    "        return \"It's a tie!\"\n",
    "    elif (\n",
    "        (user_choice == 'rock' and computer_choice == 'scissors') or\n",
    "        (user_choice == 'paper' and computer_choice == 'rock') or\n",
    "        (user_choice == 'scissors' and computer_choice == 'paper')\n",
    "    ):\n",
    "        return \"You win!\"\n",
    "    else:\n",
    "        return \"Computer wins!\"\n",
    "\n",
    "# Example usage\n",
    "user_input = input(\"Choose rock, paper, or scissors: \").lower()\n",
    "result = play_rock_paper_scissors(user_input)\n",
    "print(result)"
   ]
  },
  {
   "cell_type": "markdown",
   "id": "4c13513a-ddcb-488e-840d-20a430c46079",
   "metadata": {},
   "source": [
    "### 23. Develop a program that generates a random password based on user preferences (length, complexity)."
   ]
  },
  {
   "cell_type": "code",
   "execution_count": 39,
   "id": "1c5c00b2-7e62-4fd3-bc72-c8774b62fef4",
   "metadata": {},
   "outputs": [
    {
     "name": "stdin",
     "output_type": "stream",
     "text": [
      "Enter the desired password length:  9\n",
      "Include uppercase letters? (yes/no):  yes\n",
      "Include digits? (yes/no):  yes\n",
      "Include special characters? (yes/no):  yes\n"
     ]
    },
    {
     "name": "stdout",
     "output_type": "stream",
     "text": [
      "Generated password: ICmeTg:mL\n"
     ]
    }
   ],
   "source": [
    "import random\n",
    "import string\n",
    "\n",
    "def generate_password(length, use_uppercase, use_digits, use_special_chars):\n",
    "    characters = string.ascii_lowercase\n",
    "    if use_uppercase:\n",
    "        characters += string.ascii_uppercase\n",
    "    if use_digits:\n",
    "        characters += string.digits\n",
    "    if use_special_chars:\n",
    "        characters += string.punctuation\n",
    "\n",
    "    password = ''.join(random.choice(characters) for _ in range(length))\n",
    "    return password\n",
    "\n",
    "# Example usage\n",
    "password_length = int(input(\"Enter the desired password length: \"))\n",
    "include_uppercase = input(\"Include uppercase letters? (yes/no): \").lower() == 'yes'\n",
    "include_digits = input(\"Include digits? (yes/no): \").lower() == 'yes'\n",
    "include_special_chars = input(\"Include special characters? (yes/no): \").lower() == 'yes'\n",
    "\n",
    "generated_password = generate_password(password_length, include_uppercase, include_digits, include_special_chars)\n",
    "print(f\"Generated password: {generated_password}\")"
   ]
  },
  {
   "cell_type": "markdown",
   "id": "4dc0f6ba-2f72-4e32-b9cc-75a42db1dcf2",
   "metadata": {},
   "source": [
    "### 24. Create a program that implements a simple text-based adventure game with branching scenarios."
   ]
  },
  {
   "cell_type": "code",
   "execution_count": 40,
   "id": "1e8fe02e-490b-4240-a976-a063518acd0a",
   "metadata": {},
   "outputs": [
    {
     "name": "stdout",
     "output_type": "stream",
     "text": [
      "Welcome to the Adventure Game!\n",
      "You find yourself in a dark cave. What do you want to do?\n"
     ]
    },
    {
     "name": "stdin",
     "output_type": "stream",
     "text": [
      "1. Go deeper into the cave\n",
      "2. Turn back and exit\n",
      "Enter your choice (1 or 2):  1\n"
     ]
    },
    {
     "name": "stdout",
     "output_type": "stream",
     "text": [
      "You encounter a dragon! What do you want to do?\n"
     ]
    },
    {
     "name": "stdin",
     "output_type": "stream",
     "text": [
      "1. Try to fight the dragon\n",
      "2. Try to run away\n",
      "Enter your choice (1 or 2):  1\n"
     ]
    },
    {
     "name": "stdout",
     "output_type": "stream",
     "text": [
      "You fight valiantly but the dragon is too powerful. Game over!\n"
     ]
    }
   ],
   "source": [
    "def adventure_game():\n",
    "    print(\"Welcome to the Adventure Game!\")\n",
    "    print(\"You find yourself in a dark cave. What do you want to do?\")\n",
    "\n",
    "    choice = input(\"1. Go deeper into the cave\\n2. Turn back and exit\\nEnter your choice (1 or 2): \")\n",
    "\n",
    "    if choice == '1':\n",
    "        print(\"You encounter a dragon! What do you want to do?\")\n",
    "        choice = input(\"1. Try to fight the dragon\\n2. Try to run away\\nEnter your choice (1 or 2): \")\n",
    "\n",
    "        if choice == '1':\n",
    "            print(\"You fight valiantly but the dragon is too powerful. Game over!\")\n",
    "        elif choice == '2':\n",
    "            print(\"You manage to escape the cave. Congratulations, you survived!\")\n",
    "\n",
    "    elif choice == '2':\n",
    "        print(\"You exit the cave. Congratulations, you made it out safely!\")\n",
    "\n",
    "# Example usage\n",
    "adventure_game()"
   ]
  },
  {
   "cell_type": "markdown",
   "id": "c3a592ef-7eb3-4734-b176-753f176a753d",
   "metadata": {},
   "source": [
    "### 25. Build a program that solves a linear equation for x, considering different cases."
   ]
  },
  {
   "cell_type": "code",
   "execution_count": 41,
   "id": "c5a4df9f-2b43-4812-89d6-d84bf7bc7cd9",
   "metadata": {},
   "outputs": [
    {
     "name": "stdin",
     "output_type": "stream",
     "text": [
      "Enter the coefficient of x:  9\n",
      "Enter the constant term:  8\n"
     ]
    },
    {
     "name": "stdout",
     "output_type": "stream",
     "text": [
      "The solution to the linear equation is x = -0.8888888888888888\n"
     ]
    }
   ],
   "source": [
    "def solve_linear_equation(a, b):\n",
    "    if a == 0:\n",
    "        if b == 0:\n",
    "            return \"Infinite solutions (identity)\"\n",
    "        else:\n",
    "            return \"No solution\"\n",
    "    else:\n",
    "        x = -b / a\n",
    "        return f\"The solution to the linear equation is x = {x}\"\n",
    "\n",
    "# Example usage\n",
    "coef_a = float(input(\"Enter the coefficient of x: \"))\n",
    "coef_b = float(input(\"Enter the constant term: \"))\n",
    "solution = solve_linear_equation(coef_a, coef_b)\n",
    "print(solution)"
   ]
  },
  {
   "cell_type": "markdown",
   "id": "3e08290f-7128-4aee-9cc3-03464a51922b",
   "metadata": {},
   "source": [
    "### 26. Write a program that simulates a basic quiz game with multiple-choice questions and scoring."
   ]
  },
  {
   "cell_type": "code",
   "execution_count": 42,
   "id": "427f68f8-359c-4698-bf0b-3491f7b182fe",
   "metadata": {},
   "outputs": [
    {
     "name": "stdout",
     "output_type": "stream",
     "text": [
      "What is the capital of France?\n",
      "1. Berlin\n",
      "2. Paris\n",
      "3. London\n",
      "4. Madrid\n"
     ]
    },
    {
     "name": "stdin",
     "output_type": "stream",
     "text": [
      "Enter the number of your answer:  1\n"
     ]
    },
    {
     "name": "stdout",
     "output_type": "stream",
     "text": [
      "Wrong! The correct answer is Paris\n",
      "\n",
      "Which planet is known as the Red Planet?\n",
      "1. Venus\n",
      "2. Mars\n",
      "3. Jupiter\n",
      "4. Saturn\n"
     ]
    },
    {
     "name": "stdin",
     "output_type": "stream",
     "text": [
      "Enter the number of your answer:  2\n"
     ]
    },
    {
     "name": "stdout",
     "output_type": "stream",
     "text": [
      "Correct!\n",
      "\n",
      "What is the largest mammal?\n",
      "1. Elephant\n",
      "2. Whale Shark\n",
      "3. Blue Whale\n",
      "4. Giraffe\n"
     ]
    },
    {
     "name": "stdin",
     "output_type": "stream",
     "text": [
      "Enter the number of your answer:  3\n"
     ]
    },
    {
     "name": "stdout",
     "output_type": "stream",
     "text": [
      "Correct!\n",
      "\n",
      "You scored 2 out of 3.\n"
     ]
    }
   ],
   "source": [
    "def quiz_game():\n",
    "    questions = [\n",
    "        {\n",
    "            'question': 'What is the capital of France?',\n",
    "            'options': ['Berlin', 'Paris', 'London', 'Madrid'],\n",
    "            'correct_answer': 'Paris'\n",
    "        },\n",
    "        {\n",
    "            'question': 'Which planet is known as the Red Planet?',\n",
    "            'options': ['Venus', 'Mars', 'Jupiter', 'Saturn'],\n",
    "            'correct_answer': 'Mars'\n",
    "        },\n",
    "        {\n",
    "            'question': 'What is the largest mammal?',\n",
    "            'options': ['Elephant', 'Whale Shark', 'Blue Whale', 'Giraffe'],\n",
    "            'correct_answer': 'Blue Whale'\n",
    "        }\n",
    "    ]\n",
    "\n",
    "    score = 0\n",
    "\n",
    "    for question in questions:\n",
    "        print(question['question'])\n",
    "        for i, option in enumerate(question['options'], 1):\n",
    "            print(f\"{i}. {option}\")\n",
    "\n",
    "        user_answer = input(\"Enter the number of your answer: \")\n",
    "        if question['options'][int(user_answer) - 1] == question['correct_answer']:\n",
    "            print(\"Correct!\\n\")\n",
    "            score += 1\n",
    "        else:\n",
    "            print(f\"Wrong! The correct answer is {question['correct_answer']}\\n\")\n",
    "\n",
    "    print(f\"You scored {score} out of {len(questions)}.\")\n",
    "\n",
    "# Example usage\n",
    "quiz_game()"
   ]
  },
  {
   "cell_type": "markdown",
   "id": "c1f0e559-85b7-4a73-b62c-023065a3d428",
   "metadata": {},
   "source": [
    "### 27. Develop a program that determines whether a given year is a prime number or not."
   ]
  },
  {
   "cell_type": "code",
   "execution_count": 43,
   "id": "af4c93b9-9feb-4561-a51e-032ae4d34201",
   "metadata": {},
   "outputs": [
    {
     "name": "stdin",
     "output_type": "stream",
     "text": [
      "Enter a year to check if it's prime:  2099\n"
     ]
    },
    {
     "name": "stdout",
     "output_type": "stream",
     "text": [
      "2099 is a prime year.\n"
     ]
    }
   ],
   "source": [
    "def is_prime_year(year):\n",
    "    if year < 2:\n",
    "        return False\n",
    "\n",
    "    for i in range(2, int(year**0.5) + 1):\n",
    "        if year % i == 0:\n",
    "            return False\n",
    "\n",
    "    return True\n",
    "\n",
    "# Example usage\n",
    "user_year = int(input(\"Enter a year to check if it's prime: \"))\n",
    "if is_prime_year(user_year):\n",
    "    print(f\"{user_year} is a prime year.\")\n",
    "else:\n",
    "    print(f\"{user_year} is not a prime year.\")"
   ]
  },
  {
   "cell_type": "markdown",
   "id": "2caee2ec-6950-4eb5-90a5-4a1e44b62981",
   "metadata": {},
   "source": [
    "### 28. Create a program that sorts three numbers in ascending order using conditional statements."
   ]
  },
  {
   "cell_type": "code",
   "execution_count": 44,
   "id": "24d40a5f-4c5e-47c8-829c-265acfa9e6b1",
   "metadata": {},
   "outputs": [
    {
     "name": "stdin",
     "output_type": "stream",
     "text": [
      "Enter the first number:  89\n",
      "Enter the second number:  09\n",
      "Enter the third number:  909\n"
     ]
    },
    {
     "name": "stdout",
     "output_type": "stream",
     "text": [
      "The numbers in ascending order are: (9.0, 89.0, 909.0)\n"
     ]
    }
   ],
   "source": [
    "def sort_numbers(num1, num2, num3):\n",
    "    if num1 <= num2 <= num3:\n",
    "        return num1, num2, num3\n",
    "    elif num1 <= num3 <= num2:\n",
    "        return num1, num3, num2\n",
    "    elif num2 <= num1 <= num3:\n",
    "        return num2, num1, num3\n",
    "    elif num2 <= num3 <= num1:\n",
    "        return num2, num3, num1\n",
    "    elif num3 <= num1 <= num2:\n",
    "        return num3, num1, num2\n",
    "    else:\n",
    "        return num3, num2, num1\n",
    "\n",
    "# Example usage\n",
    "num1 = float(input(\"Enter the first number: \"))\n",
    "num2 = float(input(\"Enter the second number: \"))\n",
    "num3 = float(input(\"Enter the third number: \"))\n",
    "\n",
    "sorted_nums = sort_numbers(num1, num2, num3)\n",
    "print(f\"The numbers in ascending order are: {sorted_nums}\")"
   ]
  },
  {
   "cell_type": "markdown",
   "id": "4fc5647c-8b1e-46fc-a3f3-4b0a0e4d5b5f",
   "metadata": {},
   "source": [
    "### 29. Build a program that determines the roots of a quartic equation using numerical methods."
   ]
  },
  {
   "cell_type": "code",
   "execution_count": 45,
   "id": "8f7c44fc-1b2f-4b75-b3a4-b2903f88e3d2",
   "metadata": {},
   "outputs": [
    {
     "name": "stdout",
     "output_type": "stream",
     "text": [
      "The roots of the quartic equation are: [1. 1. 2. 3.]\n"
     ]
    }
   ],
   "source": [
    "import numpy as np\n",
    "from scipy.optimize import fsolve\n",
    "\n",
    "def quartic_equation_roots(a, b, c, d, e):\n",
    "    def equation(x):\n",
    "        return a*x**4 + b*x**3 + c*x**2 + d*x + e\n",
    "\n",
    "    roots = fsolve(equation, [0, 1, 2, 3])\n",
    "    return roots\n",
    "\n",
    "# Example usage\n",
    "a, b, c, d, e = 1, -10, 35, -50, 24\n",
    "roots = quartic_equation_roots(a, b, c, d, e)\n",
    "print(f\"The roots of the quartic equation are: {roots}\")"
   ]
  },
  {
   "cell_type": "markdown",
   "id": "2ab19417-a3fa-4888-8aa8-ddb665e58356",
   "metadata": {},
   "source": [
    "### 30. Write a program that calculates the BMI (Body Mass Index) and provides health recommendations based on the user's input."
   ]
  },
  {
   "cell_type": "code",
   "execution_count": 46,
   "id": "32ec5485-35cd-4236-b17e-e861c64f6c33",
   "metadata": {},
   "outputs": [
    {
     "name": "stdin",
     "output_type": "stream",
     "text": [
      "Enter your weight in kilograms:  98\n",
      "Enter your height in meters:  1.82\n"
     ]
    },
    {
     "name": "stdout",
     "output_type": "stream",
     "text": [
      "Your BMI is: 29.59\n",
      "You are categorized as: Overweight\n"
     ]
    }
   ],
   "source": [
    "def calculate_bmi(weight, height):\n",
    "    bmi = weight / (height**2)\n",
    "    return bmi\n",
    "\n",
    "def health_recommendation(bmi):\n",
    "    if bmi < 18.5:\n",
    "        return \"Underweight\"\n",
    "    elif 18.5 <= bmi < 24.9:\n",
    "        return \"Normal weight\"\n",
    "    elif 25 <= bmi < 29.9:\n",
    "        return \"Overweight\"\n",
    "    else:\n",
    "        return \"Obese\"\n",
    "\n",
    "# Example usage\n",
    "user_weight = float(input(\"Enter your weight in kilograms: \"))\n",
    "user_height = float(input(\"Enter your height in meters: \"))\n",
    "\n",
    "user_bmi = calculate_bmi(user_weight, user_height)\n",
    "recommendation = health_recommendation(user_bmi)\n",
    "\n",
    "print(f\"Your BMI is: {user_bmi:.2f}\")\n",
    "print(f\"You are categorized as: {recommendation}\")"
   ]
  },
  {
   "cell_type": "markdown",
   "id": "657eca54-e435-4ff3-b837-4f1bae084fe2",
   "metadata": {},
   "source": [
    "## Challenge Level:"
   ]
  },
  {
   "cell_type": "markdown",
   "id": "f4fbd3e6-7903-438c-a664-db57de80126e",
   "metadata": {},
   "source": [
    "### 31. Create a program that validates a password based on complexity rules (length, characters, etc.)."
   ]
  },
  {
   "cell_type": "code",
   "execution_count": 47,
   "id": "98ab8f2d-fd64-42ce-ae9f-90b5ed565f1f",
   "metadata": {},
   "outputs": [
    {
     "name": "stdin",
     "output_type": "stream",
     "text": [
      "Enter your password:  AMANkmar@1\n"
     ]
    },
    {
     "name": "stdout",
     "output_type": "stream",
     "text": [
      "Password is valid.\n"
     ]
    }
   ],
   "source": [
    "import re\n",
    "\n",
    "def validate_password(password):\n",
    "    # Check length\n",
    "    if len(password) < 8:\n",
    "        return \"Password should be at least 8 characters long.\"\n",
    "\n",
    "    # Check for at least one uppercase letter\n",
    "    if not re.search(\"[A-Z]\", password):\n",
    "        return \"Password should contain at least one uppercase letter.\"\n",
    "\n",
    "    # Check for at least one lowercase letter\n",
    "    if not re.search(\"[a-z]\", password):\n",
    "        return \"Password should contain at least one lowercase letter.\"\n",
    "\n",
    "    # Check for at least one digit\n",
    "    if not re.search(\"[0-9]\", password):\n",
    "        return \"Password should contain at least one digit.\"\n",
    "\n",
    "    # Check for at least one special character\n",
    "    if not re.search(\"[!@#$%^&*()_+{}:;<>,.?~\\\\-]\", password):\n",
    "        return \"Password should contain at least one special character.\"\n",
    "\n",
    "    return \"Password is valid.\"\n",
    "\n",
    "# Example usage\n",
    "user_password = input(\"Enter your password: \")\n",
    "validation_result = validate_password(user_password)\n",
    "print(validation_result)"
   ]
  },
  {
   "cell_type": "markdown",
   "id": "bd394fbd-668c-4f5b-8b17-fb237fa5e3b1",
   "metadata": {},
   "source": [
    "### 32. Develop a program that performs matrix addition and subtraction based on user input."
   ]
  },
  {
   "cell_type": "code",
   "execution_count": 48,
   "id": "c8ba2fdb-83fb-4e25-84a9-ba5a8be1c8b7",
   "metadata": {},
   "outputs": [
    {
     "name": "stdout",
     "output_type": "stream",
     "text": [
      "Matrix Addition Result:\n",
      "[10, 10, 10]\n",
      "[10, 10, 10]\n",
      "[10, 10, 10]\n",
      "\n",
      "Matrix Subtraction Result:\n",
      "[-8, -6, -4]\n",
      "[-2, 0, 2]\n",
      "[4, 6, 8]\n"
     ]
    }
   ],
   "source": [
    "def matrix_addition(matrix1, matrix2):\n",
    "    result = [[matrix1[i][j] + matrix2[i][j] for j in range(len(matrix1[0]))] for i in range(len(matrix1))]\n",
    "    return result\n",
    "\n",
    "def matrix_subtraction(matrix1, matrix2):\n",
    "    result = [[matrix1[i][j] - matrix2[i][j] for j in range(len(matrix1[0]))] for i in range(len(matrix1))]\n",
    "    return result\n",
    "\n",
    "# Example usage\n",
    "matrix1 = [[1, 2, 3], [4, 5, 6], [7, 8, 9]]\n",
    "matrix2 = [[9, 8, 7], [6, 5, 4], [3, 2, 1]]\n",
    "\n",
    "addition_result = matrix_addition(matrix1, matrix2)\n",
    "subtraction_result = matrix_subtraction(matrix1, matrix2)\n",
    "\n",
    "print(\"Matrix Addition Result:\")\n",
    "for row in addition_result:\n",
    "    print(row)\n",
    "\n",
    "print(\"\\nMatrix Subtraction Result:\")\n",
    "for row in subtraction_result:\n",
    "    print(row)"
   ]
  },
  {
   "cell_type": "markdown",
   "id": "a2fc5edc-c4d2-4a32-995d-121f5dce3ac0",
   "metadata": {},
   "source": [
    "### 33. Write a program that calculates the greatest common divisor (GCD) of two numbers using the Euclidean algorithm."
   ]
  },
  {
   "cell_type": "code",
   "execution_count": 49,
   "id": "b235af6f-3de2-4ca4-a2d4-39441d23577e",
   "metadata": {},
   "outputs": [
    {
     "name": "stdin",
     "output_type": "stream",
     "text": [
      "Enter the first number:  90\n",
      "Enter the second number:  19\n"
     ]
    },
    {
     "name": "stdout",
     "output_type": "stream",
     "text": [
      "The GCD of 90 and 19 is: 1\n"
     ]
    }
   ],
   "source": [
    "def calculate_gcd(a, b):\n",
    "    while b:\n",
    "        a, b = b, a % b\n",
    "    return a\n",
    "\n",
    "# Example usage\n",
    "num1 = int(input(\"Enter the first number: \"))\n",
    "num2 = int(input(\"Enter the second number: \"))\n",
    "\n",
    "gcd_result = calculate_gcd(num1, num2)\n",
    "print(f\"The GCD of {num1} and {num2} is: {gcd_result}\")"
   ]
  },
  {
   "cell_type": "markdown",
   "id": "9fc233ca-d4c1-45a0-9207-8a5e25ae31a1",
   "metadata": {},
   "source": [
    "### 34. Build a program that performs matrix multiplication using nested loops and conditional statements."
   ]
  },
  {
   "cell_type": "code",
   "execution_count": 50,
   "id": "20ce6ed8-2bc9-4063-9915-91ea0606c2c8",
   "metadata": {},
   "outputs": [
    {
     "name": "stdout",
     "output_type": "stream",
     "text": [
      "Matrix Multiplication Result:\n",
      "[19, 22]\n",
      "[43, 50]\n"
     ]
    }
   ],
   "source": [
    "def matrix_multiplication(matrix1, matrix2):\n",
    "    result = [[0 for _ in range(len(matrix2[0]))] for _ in range(len(matrix1))]\n",
    "\n",
    "    for i in range(len(matrix1)):\n",
    "        for j in range(len(matrix2[0])):\n",
    "            for k in range(len(matrix2)):\n",
    "                result[i][j] += matrix1[i][k] * matrix2[k][j]\n",
    "\n",
    "    return result\n",
    "\n",
    "# Example usage\n",
    "matrix1 = [[1, 2], [3, 4]]\n",
    "matrix2 = [[5, 6], [7, 8]]\n",
    "\n",
    "multiplication_result = matrix_multiplication(matrix1, matrix2)\n",
    "\n",
    "print(\"Matrix Multiplication Result:\")\n",
    "for row in multiplication_result:\n",
    "    print(row)"
   ]
  },
  {
   "cell_type": "markdown",
   "id": "3f2ec65a-0d7b-4f55-8bb5-863e216087ad",
   "metadata": {},
   "source": [
    "### 35. Create a program that simulates a basic text-based tic-tac-toe game against the computer."
   ]
  },
  {
   "cell_type": "code",
   "execution_count": 52,
   "id": "4ed2dceb-cad9-4ba0-88e1-2008719dbd1b",
   "metadata": {},
   "outputs": [
    {
     "name": "stdout",
     "output_type": "stream",
     "text": [
      "     \n",
      "     \n",
      "     \n"
     ]
    },
    {
     "name": "stdin",
     "output_type": "stream",
     "text": [
      "Enter your move (row and column, space-separated):  1 0\n"
     ]
    },
    {
     "name": "stdout",
     "output_type": "stream",
     "text": [
      "  O  \n",
      "X    \n",
      "     \n"
     ]
    },
    {
     "name": "stdin",
     "output_type": "stream",
     "text": [
      "Enter your move (row and column, space-separated):  2 2\n"
     ]
    },
    {
     "name": "stdout",
     "output_type": "stream",
     "text": [
      "O O  \n",
      "X    \n",
      "    X\n"
     ]
    },
    {
     "name": "stdin",
     "output_type": "stream",
     "text": [
      "Enter your move (row and column, space-separated):  0 2\n"
     ]
    },
    {
     "name": "stdout",
     "output_type": "stream",
     "text": [
      "O O X\n",
      "X    \n",
      "  O X\n"
     ]
    },
    {
     "name": "stdin",
     "output_type": "stream",
     "text": [
      "Enter your move (row and column, space-separated):  1 2\n"
     ]
    },
    {
     "name": "stdout",
     "output_type": "stream",
     "text": [
      "O O X\n",
      "X   X\n",
      "  O X\n",
      "Congratulations! You win!\n"
     ]
    }
   ],
   "source": [
    "import random\n",
    "\n",
    "def print_board(board):\n",
    "    for row in board:\n",
    "        print(\" \".join(row))\n",
    "\n",
    "def check_winner(board, player):\n",
    "    # Check rows and columns\n",
    "    for i in range(3):\n",
    "        if all(board[i][j] == player for j in range(3)) or all(board[j][i] == player for j in range(3)):\n",
    "            return True\n",
    "\n",
    "    # Check diagonals\n",
    "    if all(board[i][i] == player for i in range(3)) or all(board[i][2 - i] == player for i in range(3)):\n",
    "        return True\n",
    "\n",
    "    return False\n",
    "\n",
    "def is_board_full(board):\n",
    "    return all(board[i][j] != ' ' for i in range(3) for j in range(3))\n",
    "\n",
    "def play_tic_tac_toe():\n",
    "    board = [[' ' for _ in range(3)] for _ in range(3)]\n",
    "    player, computer = 'X', 'O'\n",
    "\n",
    "    while True:\n",
    "        print_board(board)\n",
    "\n",
    "        # Player's move\n",
    "        row, col = map(int, input(\"Enter your move (row and column, space-separated): \").split())\n",
    "        if board[row][col] == ' ':\n",
    "            board[row][col] = player\n",
    "            if check_winner(board, player):\n",
    "                print_board(board)\n",
    "                print(\"Congratulations! You win!\")\n",
    "                break\n",
    "            elif is_board_full(board):\n",
    "                print_board(board)\n",
    "                print(\"It's a draw!\")\n",
    "                break\n",
    "\n",
    "            # Computer's move\n",
    "            while True:\n",
    "                computer_row, computer_col = random.randint(0, 2), random.randint(0, 2)\n",
    "                if board[computer_row][computer_col] == ' ':\n",
    "                    board[computer_row][computer_col] = computer\n",
    "                    if check_winner(board, computer):\n",
    "                        print_board(board)\n",
    "                        print(\"Computer wins! Better luck next time.\")\n",
    "                        return\n",
    "                    break\n",
    "        else:\n",
    "            print(\"Cell already occupied. Try again.\")\n",
    "\n",
    "# Example usage\n",
    "play_tic_tac_toe()"
   ]
  },
  {
   "cell_type": "markdown",
   "id": "1495aaef-fc80-4768-a4fa-c3807c96e860",
   "metadata": {},
   "source": [
    "### 36. Write a program that generates Fibonacci numbers up to a specified term using iterative methods."
   ]
  },
  {
   "cell_type": "code",
   "execution_count": 53,
   "id": "1a2ad6c3-44db-477d-af21-603247120399",
   "metadata": {},
   "outputs": [
    {
     "name": "stdin",
     "output_type": "stream",
     "text": [
      "Enter the number of Fibonacci terms to generate:  9\n"
     ]
    },
    {
     "name": "stdout",
     "output_type": "stream",
     "text": [
      "Fibonacci Sequence up to term 9: [0, 1, 1, 2, 3, 5, 8, 13, 21]\n"
     ]
    }
   ],
   "source": [
    "def generate_fibonacci(n):\n",
    "    fib_sequence = [0, 1]\n",
    "    while len(fib_sequence) < n:\n",
    "        fib_sequence.append(fib_sequence[-1] + fib_sequence[-2])\n",
    "    return fib_sequence\n",
    "\n",
    "# Example usage\n",
    "num_terms = int(input(\"Enter the number of Fibonacci terms to generate: \"))\n",
    "fibonacci_sequence = generate_fibonacci(num_terms)\n",
    "print(f\"Fibonacci Sequence up to term {num_terms}: {fibonacci_sequence}\")"
   ]
  },
  {
   "cell_type": "markdown",
   "id": "5597b44b-9aef-4972-9861-07542ab85786",
   "metadata": {},
   "source": [
    "### 37. Develop a program that calculates the nth term of the Fibonacci sequence using memoization."
   ]
  },
  {
   "cell_type": "code",
   "execution_count": 58,
   "id": "90d65d63-7931-4f64-a329-e4cc0ad555f6",
   "metadata": {},
   "outputs": [
    {
     "name": "stdin",
     "output_type": "stream",
     "text": [
      "Enter the term number of the Fibonacci sequence to calculate:  23\n"
     ]
    },
    {
     "name": "stdout",
     "output_type": "stream",
     "text": [
      "The 23th term of the Fibonacci sequence is: 28657\n"
     ]
    }
   ],
   "source": [
    "def fibonacci_memo(n, memo={}):\n",
    "    if n in memo:\n",
    "        return memo[n]\n",
    "    if n <= 1:\n",
    "        return n\n",
    "    memo[n] = fibonacci_memo(n - 1, memo) + fibonacci_memo(n - 2, memo)\n",
    "    return memo[n]\n",
    "\n",
    "# Example usage\n",
    "term_number = int(input(\"Enter the term number of the Fibonacci sequence to calculate: \"))\n",
    "fibonacci_term = fibonacci_memo(term_number)\n",
    "print(f\"The {term_number}th term of the Fibonacci sequence is: {fibonacci_term}\")\n"
   ]
  },
  {
   "cell_type": "markdown",
   "id": "20150c5a-dfde-4c94-9c29-487a6ba89362",
   "metadata": {},
   "source": [
    "### 38. Create a program that generates a calendar for a given month and year using conditional statements."
   ]
  },
  {
   "cell_type": "code",
   "execution_count": 55,
   "id": "47c7f5fb-f345-48d4-a2c6-99e5a92bac33",
   "metadata": {},
   "outputs": [
    {
     "name": "stdin",
     "output_type": "stream",
     "text": [
      "Enter the term number of the Fibonacci sequence to calculate:  9\n"
     ]
    },
    {
     "name": "stdout",
     "output_type": "stream",
     "text": [
      "The 9th term of the Fibonacci sequence is: 34\n"
     ]
    }
   ],
   "source": [
    "def fibonacci_memo(n, memo={}):\n",
    "    if n in memo:\n",
    "        return memo[n]\n",
    "    if n <= 1:\n",
    "        return n\n",
    "    memo[n] = fibonacci_memo(n - 1, memo) + fibonacci_memo(n - 2, memo)\n",
    "    return memo[n]\n",
    "\n",
    "# Example usage\n",
    "term_number = int(input(\"Enter the term number of the Fibonacci sequence to calculate: \"))\n",
    "fibonacci_term = fibonacci_memo(term_number)\n",
    "print(f\"The {term_number}th term of the Fibonacci sequence is: {fibonacci_term}\")"
   ]
  },
  {
   "cell_type": "markdown",
   "id": "425b1726-4b29-4085-bb99-4ef276ddd6a7",
   "metadata": {},
   "source": [
    "### 39. Build a program that simulates a basic text-based blackjack game against the computer."
   ]
  },
  {
   "cell_type": "code",
   "execution_count": 56,
   "id": "de427f31-d3d5-44ed-9f58-e62f51adc164",
   "metadata": {},
   "outputs": [
    {
     "name": "stdout",
     "output_type": "stream",
     "text": [
      "Your hand: ['6', '8']  (Value: 14)\n",
      "Computer's hand: ['3', 'X']\n"
     ]
    },
    {
     "name": "stdin",
     "output_type": "stream",
     "text": [
      "Do you want to 'hit' or 'stand'?  hit\n"
     ]
    },
    {
     "name": "stdout",
     "output_type": "stream",
     "text": [
      "Your hand: ['6', '8', '9']  (Value: 23)\n",
      "Computer's hand: ['3', 'X']\n",
      "Bust! You lose.\n"
     ]
    }
   ],
   "source": [
    "import random\n",
    "\n",
    "def get_card_value(card):\n",
    "    if card in ['K', 'Q', 'J']:\n",
    "        return 10\n",
    "    elif card == 'A':\n",
    "        return 11\n",
    "    else:\n",
    "        return int(card)\n",
    "\n",
    "def calculate_hand_value(hand):\n",
    "    value = sum(get_card_value(card) for card in hand)\n",
    "    # Adjust for Aces\n",
    "    num_aces = hand.count('A')\n",
    "    while value > 21 and num_aces:\n",
    "        value -= 10\n",
    "        num_aces -= 1\n",
    "    return value\n",
    "\n",
    "def play_blackjack():\n",
    "    deck = ['2', '3', '4', '5', '6', '7', '8', '9', '10', 'J', 'Q', 'K', 'A'] * 4\n",
    "    player_hand = [random.choice(deck), random.choice(deck)]\n",
    "    computer_hand = [random.choice(deck), random.choice(deck)]\n",
    "\n",
    "    def display_hands(player_turn=True):\n",
    "        print(\"Your hand:\", player_hand, f\" (Value: {calculate_hand_value(player_hand)})\")\n",
    "        print(\"Computer's hand:\", [computer_hand[0], 'X']) if player_turn else print(\"Computer's hand:\", computer_hand)\n",
    "\n",
    "    while True:\n",
    "        display_hands()\n",
    "        action = input(\"Do you want to 'hit' or 'stand'? \").lower()\n",
    "\n",
    "        if action == 'hit':\n",
    "            player_hand.append(random.choice(deck))\n",
    "            if calculate_hand_value(player_hand) > 21:\n",
    "                display_hands()\n",
    "                print(\"Bust! You lose.\")\n",
    "                break\n",
    "        elif action == 'stand':\n",
    "            while calculate_hand_value(computer_hand) < 17:\n",
    "                computer_hand.append(random.choice(deck))\n",
    "            display_hands(False)\n",
    "\n",
    "            if calculate_hand_value(computer_hand) > 21 or calculate_hand_value(player_hand) > calculate_hand_value(computer_hand):\n",
    "                print(\"Congratulations! You win.\")\n",
    "            elif calculate_hand_value(player_hand) == calculate_hand_value(computer_hand):\n",
    "                print(\"It's a tie!\")\n",
    "            else:\n",
    "                print(\"You lose. Better luck next time.\")\n",
    "            break\n",
    "        else:\n",
    "            print(\"Invalid input. Please enter 'hit' or 'stand'.\")\n",
    "\n",
    "# Example usage\n",
    "play_blackjack()"
   ]
  },
  {
   "cell_type": "markdown",
   "id": "68cdaeaa-9fcb-4166-b7c1-75d28881d721",
   "metadata": {},
   "source": [
    "### 40. Write a program that generates the prime factors of a given number using trial division."
   ]
  },
  {
   "cell_type": "code",
   "execution_count": 57,
   "id": "ef3739a7-2b9e-4fc5-ac52-e99fd766fa9a",
   "metadata": {},
   "outputs": [
    {
     "name": "stdin",
     "output_type": "stream",
     "text": [
      "Enter a number to find its prime factors:  34\n"
     ]
    },
    {
     "name": "stdout",
     "output_type": "stream",
     "text": [
      "The prime factors of 34 are: [2, 17]\n"
     ]
    }
   ],
   "source": [
    "def prime_factors_trial_division(number):\n",
    "    factors = []\n",
    "    divisor = 2\n",
    "\n",
    "    while divisor <= number:\n",
    "        if number % divisor == 0:\n",
    "            factors.append(divisor)\n",
    "            number //= divisor\n",
    "        else:\n",
    "            divisor += 1\n",
    "\n",
    "    return factors\n",
    "\n",
    "# Example usage\n",
    "user_number = int(input(\"Enter a number to find its prime factors: \"))\n",
    "prime_factors = prime_factors_trial_division(user_number)\n",
    "print(f\"The prime factors of {user_number} are: {prime_factors}\")"
   ]
  }
 ],
 "metadata": {
  "kernelspec": {
   "display_name": "Python 3 (ipykernel)",
   "language": "python",
   "name": "python3"
  },
  "language_info": {
   "codemirror_mode": {
    "name": "ipython",
    "version": 3
   },
   "file_extension": ".py",
   "mimetype": "text/x-python",
   "name": "python",
   "nbconvert_exporter": "python",
   "pygments_lexer": "ipython3",
   "version": "3.10.8"
  }
 },
 "nbformat": 4,
 "nbformat_minor": 5
}
